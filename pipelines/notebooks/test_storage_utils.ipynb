{
 "cells": [
  {
   "cell_type": "code",
   "execution_count": 13,
   "id": "30627a53-3b54-4e00-98a8-9283034fa572",
   "metadata": {},
   "outputs": [],
   "source": [
    "# import sys\n",
    "# sys.path.append(\"../..\")\n",
    "from pipelines.utils.storage_client import ObjectStorageClient"
   ]
  },
  {
   "cell_type": "code",
   "execution_count": 14,
   "id": "f10cbeca",
   "metadata": {},
   "outputs": [],
   "source": [
    "import pipelines.config.config as test"
   ]
  },
  {
   "cell_type": "code",
   "execution_count": 15,
   "id": "1fb5871d",
   "metadata": {},
   "outputs": [
    {
     "data": {
      "text/plain": [
       "['__builtins__',\n",
       " '__cached__',\n",
       " '__doc__',\n",
       " '__file__',\n",
       " '__loader__',\n",
       " '__name__',\n",
       " '__package__',\n",
       " '__spec__',\n",
       " 'current_dir',\n",
       " 'dotenv_path',\n",
       " 'load_dotenv',\n",
       " 'os']"
      ]
     },
     "execution_count": 15,
     "metadata": {},
     "output_type": "execute_result"
    }
   ],
   "source": [
    "dir(test)"
   ]
  },
  {
   "cell_type": "code",
   "execution_count": 16,
   "id": "38862ce2-4723-41e3-ab29-bcf76e1248e7",
   "metadata": {},
   "outputs": [
    {
     "ename": "ImportError",
     "evalue": "cannot import name 'load_env_variables' from 'pipelines.config.config' (C:\\Users\\nicol\\Documents\\DataForGood\\13_rendre_visible_pollution_eau_potable\\fork\\13_pollution_eau\\pipelines\\config\\config.py)",
     "output_type": "error",
     "traceback": [
      "\u001b[1;31m---------------------------------------------------------------------------\u001b[0m",
      "\u001b[1;31mImportError\u001b[0m                               Traceback (most recent call last)",
      "Cell \u001b[1;32mIn[16], line 2\u001b[0m\n\u001b[0;32m      1\u001b[0m \u001b[38;5;66;03m# nécéssaire pour load le .env\u001b[39;00m\n\u001b[1;32m----> 2\u001b[0m \u001b[38;5;28;01mfrom\u001b[39;00m\u001b[38;5;250m \u001b[39m\u001b[38;5;21;01mpipelines\u001b[39;00m\u001b[38;5;21;01m.\u001b[39;00m\u001b[38;5;21;01mconfig\u001b[39;00m\u001b[38;5;21;01m.\u001b[39;00m\u001b[38;5;21;01mconfig\u001b[39;00m\u001b[38;5;250m \u001b[39m\u001b[38;5;28;01mimport\u001b[39;00m load_env_variables\n\u001b[0;32m      3\u001b[0m load_env_variables()\n",
      "\u001b[1;31mImportError\u001b[0m: cannot import name 'load_env_variables' from 'pipelines.config.config' (C:\\Users\\nicol\\Documents\\DataForGood\\13_rendre_visible_pollution_eau_potable\\fork\\13_pollution_eau\\pipelines\\config\\config.py)"
     ]
    }
   ],
   "source": [
    "# nécéssaire pour load le .env\n",
    "from pipelines.config.config import load_env_variables\n",
    "\n",
    "load_env_variables()"
   ]
  },
  {
   "cell_type": "code",
   "execution_count": 17,
   "id": "d133d716-172f-4273-ad61-f4bc88cf9413",
   "metadata": {},
   "outputs": [],
   "source": [
    "import pandas as pd\n",
    "\n",
    "file_name = \"test.csv\"\n",
    "data = {\n",
    "    \"Name\": [\"Alice\", \"Bob\", \"Charlie\"],\n",
    "    \"Age\": [25, 30, 35],\n",
    "    \"City\": [\"New York\", \"Los Angeles\", \"Chicago\"],\n",
    "}\n",
    "df = pd.DataFrame(data)\n",
    "df.to_csv(file_name, index=False)"
   ]
  },
  {
   "cell_type": "code",
   "execution_count": 18,
   "id": "f92361d8-8b48-40a4-a6c6-e91e9b5f0fae",
   "metadata": {},
   "outputs": [],
   "source": [
    "storage_client = ObjectStorageClient()"
   ]
  },
  {
   "cell_type": "code",
   "execution_count": 19,
   "id": "6796b3fc-9332-429c-8217-6661dd7dd08c",
   "metadata": {},
   "outputs": [],
   "source": [
    "storage_client.upload_object(\"test.csv\", \"test/test.csv\")"
   ]
  },
  {
   "cell_type": "code",
   "execution_count": 20,
   "id": "eb314161-952b-4a68-875e-de52ce042578",
   "metadata": {},
   "outputs": [
    {
     "data": {
      "text/html": [
       "<div>\n",
       "<style scoped>\n",
       "    .dataframe tbody tr th:only-of-type {\n",
       "        vertical-align: middle;\n",
       "    }\n",
       "\n",
       "    .dataframe tbody tr th {\n",
       "        vertical-align: top;\n",
       "    }\n",
       "\n",
       "    .dataframe thead th {\n",
       "        text-align: right;\n",
       "    }\n",
       "</style>\n",
       "<table border=\"1\" class=\"dataframe\">\n",
       "  <thead>\n",
       "    <tr style=\"text-align: right;\">\n",
       "      <th></th>\n",
       "      <th>Name</th>\n",
       "      <th>Age</th>\n",
       "      <th>City</th>\n",
       "    </tr>\n",
       "  </thead>\n",
       "  <tbody>\n",
       "    <tr>\n",
       "      <th>0</th>\n",
       "      <td>Alice</td>\n",
       "      <td>25</td>\n",
       "      <td>New York</td>\n",
       "    </tr>\n",
       "    <tr>\n",
       "      <th>1</th>\n",
       "      <td>Bob</td>\n",
       "      <td>30</td>\n",
       "      <td>Los Angeles</td>\n",
       "    </tr>\n",
       "    <tr>\n",
       "      <th>2</th>\n",
       "      <td>Charlie</td>\n",
       "      <td>35</td>\n",
       "      <td>Chicago</td>\n",
       "    </tr>\n",
       "  </tbody>\n",
       "</table>\n",
       "</div>"
      ],
      "text/plain": [
       "      Name  Age         City\n",
       "0    Alice   25     New York\n",
       "1      Bob   30  Los Angeles\n",
       "2  Charlie   35      Chicago"
      ]
     },
     "execution_count": 20,
     "metadata": {},
     "output_type": "execute_result"
    }
   ],
   "source": [
    "storage_client.download_object(\"test/test.csv\", \"download_test.csv\")\n",
    "pd.read_csv(\"download_test.csv\")"
   ]
  },
  {
   "cell_type": "code",
   "execution_count": null,
   "id": "3b3a9883-90cd-4eb1-8555-ccb98b5d8851",
   "metadata": {},
   "outputs": [],
   "source": [
    "storage_client.read_object_as_dataframe(\"test/test.csv\")"
   ]
  },
  {
   "cell_type": "code",
   "execution_count": null,
   "id": "fa49c099-7010-4d13-ae62-f75d6f539c58",
   "metadata": {},
   "outputs": [],
   "source": [
    "storage_client.upload_dataframe(df, \"test2.csv\")"
   ]
  },
  {
   "cell_type": "code",
   "execution_count": null,
   "id": "d36700b6-33e7-45b0-af94-b6458e94ba1c",
   "metadata": {},
   "outputs": [],
   "source": [
    "storage_client.read_object_as_dataframe(\"test2.csv\")"
   ]
  },
  {
   "cell_type": "code",
   "execution_count": null,
   "id": "526d731a-1040-4f8b-abd3-d8fbb408d98a",
   "metadata": {},
   "outputs": [],
   "source": [
    "storage_client.list_objects()"
   ]
  },
  {
   "cell_type": "code",
   "execution_count": null,
   "id": "263a01c0-25f9-45a7-bb60-c0dd5e3ae2fb",
   "metadata": {},
   "outputs": [],
   "source": [
    "storage_client.delete_object(\"test2.csv\")\n",
    "storage_client.delete_object(\"test/test.csv\")"
   ]
  },
  {
   "cell_type": "code",
   "execution_count": null,
   "id": "73f94449-52d7-453c-9f21-b5e5df68cd37",
   "metadata": {},
   "outputs": [],
   "source": [
    "storage_client.list_objects()"
   ]
  },
  {
   "cell_type": "code",
   "execution_count": null,
   "id": "361e9472-232f-40e8-8389-c088808bcfad",
   "metadata": {},
   "outputs": [],
   "source": []
  },
  {
   "cell_type": "code",
   "execution_count": null,
   "id": "7df83608-b121-43fd-8d6b-5667df410fd4",
   "metadata": {},
   "outputs": [],
   "source": []
  }
 ],
 "metadata": {
  "kernelspec": {
   "display_name": "Python 3 (ipykernel)",
   "language": "python",
   "name": "python3"
  },
  "language_info": {
   "codemirror_mode": {
    "name": "ipython",
    "version": 3
   },
   "file_extension": ".py",
   "mimetype": "text/x-python",
   "name": "python",
   "nbconvert_exporter": "python",
   "pygments_lexer": "ipython3",
   "version": "3.12.7"
  }
 },
 "nbformat": 4,
 "nbformat_minor": 5
}
