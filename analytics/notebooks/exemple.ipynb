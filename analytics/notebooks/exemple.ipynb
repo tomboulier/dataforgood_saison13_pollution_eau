{
 "cells": [
  {
   "cell_type": "markdown",
   "metadata": {},
   "source": [
    "# Exemple de notebook - premières analyses des données SISE-Eaux\n"
   ]
  },
  {
   "cell_type": "code",
   "execution_count": 1,
   "metadata": {},
   "outputs": [],
   "source": [
    "# Nous commencons par importer les librairies nécessaires pour l'analyse des données.\n",
    "\n",
    "import duckdb\n",
    "import pandas as pd\n",
    "\n",
    "con = duckdb.connect(database=\"./../../database/data.duckdb\", read_only=True)"
   ]
  },
  {
   "cell_type": "code",
   "execution_count": 2,
   "metadata": {},
   "outputs": [
    {
     "name": "stdout",
     "output_type": "stream",
     "text": [
      "┌──────────────┬────────────────────────────┬──────────────────────┬───────────┬─────────────────────────────────┬────────────┐\n",
      "│ inseecommune │         nomcommune         │       quartier       │ cdreseau  │            nomreseau            │ debutalim  │\n",
      "│   varchar    │          varchar           │       varchar        │  varchar  │             varchar             │    date    │\n",
      "├──────────────┼────────────────────────────┼──────────────────────┼───────────┼─────────────────────────────────┼────────────┤\n",
      "│ 01001        │ ABERGEMENT-CLEMENCIAT (L') │ -                    │ 001000556 │ BDS ST DIDIER/CHALARONNE        │ 2010-09-07 │\n",
      "│ 01002        │ ABERGEMENT-DE-VAREY (L')   │ -                    │ 001000369 │ L'ABERGEMENT-DE-VAREY           │ 2010-09-07 │\n",
      "│ 01004        │ AMBERIEU-EN-BUGEY          │ Vareilles            │ 001000248 │ AMBERIEU VAREILLES              │ 2010-09-07 │\n",
      "│ 01004        │ AMBERIEU-EN-BUGEY          │ St Germain_Brédevent │ 001000249 │ AMBERIEU SAINT GERMAIN DOUVRES  │ 2010-09-07 │\n",
      "│ 01004        │ AMBERIEU-EN-BUGEY          │ ville                │ 001000251 │ AMBERIEU VILLE                  │ 2010-09-07 │\n",
      "│ 01005        │ AMBERIEUX-EN-DOMBES        │ Est                  │ 001000850 │ BDS CHATANIER                   │ 2023-01-01 │\n",
      "│ 01005        │ AMBERIEUX-EN-DOMBES        │ Ouest                │ 001000850 │ BDS CHATANIER                   │ 2021-08-01 │\n",
      "│ 01006        │ AMBLEON                    │ -                    │ 001000235 │ AMBLEON                         │ 2010-09-07 │\n",
      "│ 01007        │ AMBRONAY                   │ -                    │ 001000003 │ AMBRONAY                        │ 2010-09-07 │\n",
      "│ 01008        │ AMBUTRIX                   │ Ambutrix centre      │ 001000254 │ AMBUTRIX MAIRIE                 │ 2010-09-07 │\n",
      "│   ·          │    ·                       │ ·                    │     ·     │        ·                        │     ·      │\n",
      "│   ·          │    ·                       │ ·                    │     ·     │        ·                        │     ·      │\n",
      "│   ·          │    ·                       │ ·                    │     ·     │        ·                        │     ·      │\n",
      "│ 21007        │ AISY-SOUS-THIL             │ -                    │ 021003565 │ SESAM, R. DE CHENESAINT         │ 2017-11-03 │\n",
      "│ 21008        │ ALISE-SAINTE-REINE         │ Bourg                │ 021000642 │ ALISE SAINTE REINE              │ 2010-07-31 │\n",
      "│ 21009        │ ALLEREY                    │ -                    │ 021001497 │ SIAEP DE LIERNAIS, R. D'HUILLY  │ 2010-07-31 │\n",
      "│ 21010        │ ALOXE-CORTON               │ -                    │ 021000170 │ CABCS, R. D'ALOXE CORTON        │ 2010-07-31 │\n",
      "│ 21011        │ AMPILLY-LES-BORDES         │ bourg                │ 021000645 │ AMPILLY LES BORDES, R.PPAL      │ 2010-07-31 │\n",
      "│ 21011        │ AMPILLY-LES-BORDES         │ Meursauges/La Folie  │ 021000649 │ AMPILLY LES B.,R.MEUR.ET FOLIE  │ 2010-07-31 │\n",
      "│ 21012        │ AMPILLY-LE-SEC             │ -                    │ 021000652 │ AMPILLY LE SEC                  │ 2010-07-31 │\n",
      "│ 21013        │ ANCEY                      │ -                    │ 021001851 │ CC OUCHE MONTAGNE,R.BAS ET HAUT │ 2010-07-31 │\n",
      "│ 21014        │ ANTHEUIL                   │ -                    │ 021000655 │ ANTHEUIL                        │ 2010-07-31 │\n",
      "│ 21015        │ ANTIGNY-LA-VILLE           │ -                    │ 021002380 │ SIAEP D'ARNAY, R. MELANGE       │ 2010-07-31 │\n",
      "├──────────────┴────────────────────────────┴──────────────────────┴───────────┴─────────────────────────────────┴────────────┤\n",
      "│ ? rows (>9999 rows, 20 shown)                                                                                     6 columns │\n",
      "└─────────────────────────────────────────────────────────────────────────────────────────────────────────────────────────────┘\n",
      "\n"
     ]
    }
   ],
   "source": [
    "# Affichons les tables\n",
    "\n",
    "con.table(\"sise_communes\").show()"
   ]
  },
  {
   "cell_type": "code",
   "execution_count": 3,
   "metadata": {},
   "outputs": [
    {
     "name": "stdout",
     "output_type": "stream",
     "text": [
      "┌─────────┬───────────┬───────────────────┬─────────────────┬───────────────┬─────────────────────────────────────┬───────────────┬───────────────┬────────────┬───────────┬─────────────────────────────────────────────────────────────────────────────────────────────────────────────────────────────────────────────────────────────────────────────────┬───────────────────────────────────┬───────────────────────────────────────┬───────────────────────────────────────┬───────────────────────┬───────────────────────┬────────────────────────────┬────────────────────────────┐\n",
      "│ cddept  │ cdreseau  │ inseecommuneprinc │ nomcommuneprinc │ cdreseauamont │           nomreseauamont            │ pourcentdebit │ referenceprel │  dateprel  │ heureprel │                                                                                 conclusionprel                                                                                  │              ugelib               │               distrlib                │                moalib                 │ plvconformitebacterio │ plvconformitechimique │ plvconformitereferencebact │ plvconformitereferencechim │\n",
      "│ varchar │  varchar  │      varchar      │     varchar     │    varchar    │               varchar               │    varchar    │    varchar    │    date    │  varchar  │                                                                                     varchar                                                                                     │              varchar              │                varchar                │                varchar                │        varchar        │        varchar        │          varchar           │          varchar           │\n",
      "├─────────┼───────────┼───────────────────┼─────────────────┼───────────────┼─────────────────────────────────────┼───────────────┼───────────────┼────────────┼───────────┼─────────────────────────────────────────────────────────────────────────────────────────────────────────────────────────────────────────────────────────────────────────────────┼───────────────────────────────────┼───────────────────────────────────────┼───────────────────────────────────────┼───────────────────────┼───────────────────────┼────────────────────────────┼────────────────────────────┤\n",
      "│ 001     │ 001000003 │ 01007             │ AMBRONAY        │ NULL          │ NULL                                │ NULL          │ 00100139034   │ 2024-01-23 │ 11h27     │ Eau d'alimentation conforme aux limites de qualité et non conforme aux références de qualité.                                                                                   │ SI REGION D'AMBERIEU-EN-BUGEY     │ SIE REGION D'AMBERIEU-EN-BUGEY        │ SIE REGION D'AMBERIEU-EN-BUGEY        │ C                     │ C                     │ N                          │ C                          │\n",
      "│ 001     │ 001000003 │ 01007             │ AMBRONAY        │ NULL          │ NULL                                │ NULL          │ 00100139393   │ 2024-02-13 │ 12h49     │ Eau d'alimentation conforme aux exigences de qualité en vigueur pour l'ensemble des paramètres mesurés.                                                                         │ SI REGION D'AMBERIEU-EN-BUGEY     │ SIE REGION D'AMBERIEU-EN-BUGEY        │ SIE REGION D'AMBERIEU-EN-BUGEY        │ C                     │ C                     │ C                          │ C                          │\n",
      "│ 001     │ 001000003 │ 01007             │ AMBRONAY        │ 001001304     │ TTP (CLG) AMBRONAY                  │ 100 %         │ 00100139969   │ 2024-03-13 │ 10h46     │ Eau d'alimentation conforme aux exigences de qualité en vigueur pour l'ensemble des paramètres mesurés.                                                                         │ SI REGION D'AMBERIEU-EN-BUGEY     │ SIE REGION D'AMBERIEU-EN-BUGEY        │ SIE REGION D'AMBERIEU-EN-BUGEY        │ C                     │ C                     │ C                          │ C                          │\n",
      "│ 001     │ 001000003 │ 01007             │ AMBRONAY        │ NULL          │ NULL                                │ NULL          │ 00100140209   │ 2024-04-05 │ 07h27     │ Eau d'alimentation conforme aux exigences de qualité en vigueur pour l'ensemble des paramètres mesurés.                                                                         │ SI REGION D'AMBERIEU-EN-BUGEY     │ SIE REGION D'AMBERIEU-EN-BUGEY        │ SIE REGION D'AMBERIEU-EN-BUGEY        │ C                     │ C                     │ C                          │ C                          │\n",
      "│ 001     │ 001000003 │ 01007             │ AMBRONAY        │ NULL          │ NULL                                │ NULL          │ 00100140543   │ 2024-05-13 │ 12h43     │ Eau d'alimentation conforme aux exigences de qualité en vigueur pour l'ensemble des paramètres mesurés.                                                                         │ SI REGION D'AMBERIEU-EN-BUGEY     │ SIE REGION D'AMBERIEU-EN-BUGEY        │ SIE REGION D'AMBERIEU-EN-BUGEY        │ C                     │ C                     │ C                          │ C                          │\n",
      "│ 001     │ 001000003 │ 01007             │ AMBRONAY        │ NULL          │ NULL                                │ NULL          │ 00100140886   │ 2024-06-11 │ 11h53     │ Eau d'alimentation conforme aux exigences de qualité en vigueur pour l'ensemble des paramètres mesurés.                                                                         │ SI REGION D'AMBERIEU-EN-BUGEY     │ SIE REGION D'AMBERIEU-EN-BUGEY        │ SIE REGION D'AMBERIEU-EN-BUGEY        │ C                     │ C                     │ C                          │ C                          │\n",
      "│ 001     │ 001000003 │ 01007             │ AMBRONAY        │ 001001304     │ TTP (CLG) AMBRONAY                  │ 100 %         │ 00100141254   │ 2024-07-08 │ 09h50     │ Eau d'alimentation conforme aux exigences de qualité en vigueur pour l'ensemble des paramètres mesurés.                                                                         │ SI REGION D'AMBERIEU-EN-BUGEY     │ SIE REGION D'AMBERIEU-EN-BUGEY        │ SIE REGION D'AMBERIEU-EN-BUGEY        │ C                     │ C                     │ C                          │ C                          │\n",
      "│ 001     │ 001000003 │ 01007             │ AMBRONAY        │ NULL          │ NULL                                │ NULL          │ 00100141669   │ 2024-08-20 │ 12h25     │ Eau d'alimentation conforme aux exigences de qualité en vigueur pour l'ensemble des paramètres mesurés.                                                                         │ SI REGION D'AMBERIEU-EN-BUGEY     │ SIE REGION D'AMBERIEU-EN-BUGEY        │ SIE REGION D'AMBERIEU-EN-BUGEY        │ C                     │ C                     │ C                          │ C                          │\n",
      "│ 001     │ 001000003 │ 01007             │ AMBRONAY        │ NULL          │ NULL                                │ NULL          │ 00100142143   │ 2024-09-11 │ 10h09     │ Eau d'alimentation conforme aux exigences de qualité en vigueur pour l'ensemble des paramètres mesurés.                                                                         │ SI REGION D'AMBERIEU-EN-BUGEY     │ SIE REGION D'AMBERIEU-EN-BUGEY        │ SIE REGION D'AMBERIEU-EN-BUGEY        │ C                     │ C                     │ C                          │ C                          │\n",
      "│ 001     │ 001000003 │ 01007             │ AMBRONAY        │ NULL          │ NULL                                │ NULL          │ 00100142530   │ 2024-10-18 │ 13h18     │ Eau d'alimentation non-conforme aux exigences de qualité.                                                                                                                       │ SI REGION D'AMBERIEU-EN-BUGEY     │ SIE REGION D'AMBERIEU-EN-BUGEY        │ SIE REGION D'AMBERIEU-EN-BUGEY        │ N                     │ C                     │ N                          │ C                          │\n",
      "│  ·      │     ·     │   ·               │    ·            │  ·            │  ·                                  │  ·            │      ·        │     ·      │   ·       │                             ·                                                                                                                                                   │               ·                   │               ·                       │               ·                       │ ·                     │ ·                     │ ·                          │ ·                          │\n",
      "│  ·      │     ·     │   ·               │    ·            │  ·            │  ·                                  │  ·            │      ·        │     ·      │   ·       │                             ·                                                                                                                                                   │               ·                   │               ·                       │               ·                       │ ·                     │ ·                     │ ·                          │ ·                          │\n",
      "│  ·      │     ·     │   ·               │    ·            │  ·            │  ·                                  │  ·            │      ·        │     ·      │   ·       │                             ·                                                                                                                                                   │               ·                   │               ·                       │               ·                       │ ·                     │ ·                     │ ·                          │ ·                          │\n",
      "│ 004     │ 004000161 │ 04031             │ BRAS-D'ASSE     │ NULL          │ NULL                                │ NULL          │ 00400144917   │ 2024-08-12 │ 09h31     │ Eau d'alimentation non-conforme aux exigences de qualité.                                                                                                                       │ C.A. PROVENCE ALPES AGGLOMERATION │ CA PROVENCE-ALPES-AGGLOMÉRATION (P2A) │ CA PROVENCE-ALPES-AGGLOMÉRATION (P2A) │ N                     │ C                     │ N                          │ N                          │\n",
      "│ 004     │ 004000161 │ 04031             │ BRAS-D'ASSE     │ NULL          │ NULL                                │ NULL          │ 00400145100   │ 2024-08-21 │ 08h41     │ Eau d'alimentation conforme aux limites de qualité mais dépassement de la référence de qualité pour le paramètre température.                                                   │ C.A. PROVENCE ALPES AGGLOMERATION │ CA PROVENCE-ALPES-AGGLOMÉRATION (P2A) │ CA PROVENCE-ALPES-AGGLOMÉRATION (P2A) │ C                     │ C                     │ C                          │ N                          │\n",
      "│ 004     │ 004000161 │ 04031             │ BRAS-D'ASSE     │ 004000162     │ UV BRAS D'ASSE VILLAGE ET LA BEGUDE │ 100 %         │ 00400145596   │ 2024-09-16 │ 10h15     │ Eau d'alimentation conforme aux exigences de qualité en vigueur pour l'ensemble des paramètres mesurés.                                                                         │ C.A. PROVENCE ALPES AGGLOMERATION │ CA PROVENCE-ALPES-AGGLOMÉRATION (P2A) │ CA PROVENCE-ALPES-AGGLOMÉRATION (P2A) │ C                     │ C                     │ C                          │ C                          │\n",
      "│ 004     │ 004000161 │ 04031             │ BRAS-D'ASSE     │ NULL          │ NULL                                │ NULL          │ 00400146003   │ 2024-10-21 │ 11h05     │ Eau d'alimentation conforme aux exigences de qualité en vigueur pour l'ensemble des paramètres mesurés.                                                                         │ C.A. PROVENCE ALPES AGGLOMERATION │ CA PROVENCE-ALPES-AGGLOMÉRATION (P2A) │ CA PROVENCE-ALPES-AGGLOMÉRATION (P2A) │ C                     │ C                     │ C                          │ C                          │\n",
      "│ 004     │ 004000161 │ 04031             │ BRAS-D'ASSE     │ NULL          │ NULL                                │ NULL          │ 00400146650   │ 2024-12-16 │ 12h15     │ Eau d'alimentation conforme aux exigences de qualité en vigueur pour l'ensemble des paramètres mesurés.                                                                         │ C.A. PROVENCE ALPES AGGLOMERATION │ CA PROVENCE-ALPES-AGGLOMÉRATION (P2A) │ CA PROVENCE-ALPES-AGGLOMÉRATION (P2A) │ C                     │ C                     │ C                          │ C                          │\n",
      "│ 004     │ 004000161 │ 04031             │ BRAS-D'ASSE     │ NULL          │ NULL                                │ NULL          │ 00400146731   │ 2024-12-16 │ 12h11     │ Eau d'alimentation conforme aux exigences de qualité en vigueur pour l'ensemble des paramètres mesurés.                                                                         │ C.A. PROVENCE ALPES AGGLOMERATION │ CA PROVENCE-ALPES-AGGLOMÉRATION (P2A) │ CA PROVENCE-ALPES-AGGLOMÉRATION (P2A) │ S                     │ C                     │ S                          │ C                          │\n",
      "│ 004     │ 004000165 │ 04032             │ BRAUX           │ NULL          │ NULL                                │ NULL          │ 00400141394   │ 2024-01-08 │ 11h09     │ Eau d'alimentation conforme aux exigences de qualité en vigueur pour l'ensemble des paramètres mesurés.                                                                         │ SMIAGE REAAM                      │ SMIAGE REAAM                          │ SMIAGE REAAM                          │ C                     │ C                     │ C                          │ C                          │\n",
      "│ 004     │ 004000165 │ 04032             │ BRAUX           │ 004001841     │ UV RESERVOIR INF CLAPIERES          │ 50 %          │ 00400141777   │ 2024-02-09 │ 08h36     │ Eau d'alimentation conforme aux exigences de qualité en vigueur pour l'ensemble des paramètres mesurés.                                                                         │ SMIAGE REAAM                      │ SMIAGE REAAM                          │ SMIAGE REAAM                          │ C                     │ C                     │ C                          │ C                          │\n",
      "│ 004     │ 004000165 │ 04032             │ BRAUX           │ NULL          │ NULL                                │ NULL          │ 00400142479   │ 2024-03-29 │ 12h31     │ Eau d'alimentation conforme aux exigences de qualité en vigueur pour l'ensemble des paramètres mesurés.                                                                         │ SMIAGE REAAM                      │ SMIAGE REAAM                          │ SMIAGE REAAM                          │ C                     │ C                     │ C                          │ C                          │\n",
      "│ 004     │ 004000165 │ 04032             │ BRAUX           │ 004001840     │ UV RESERVOIR SUP CLAUSTERON         │ 50 %          │ 00400142910   │ 2024-05-02 │ 12h30     │ Eau d'alimentation conforme aux limites de qualité mais dépassement de la référence de qualité pour le paramètre conductivité. Conductivité faible, eau pouvant être agressive. │ SMIAGE REAAM                      │ SMIAGE REAAM                          │ SMIAGE REAAM                          │ C                     │ C                     │ C                          │ N                          │\n",
      "├─────────┴───────────┴───────────────────┴─────────────────┴───────────────┴─────────────────────────────────────┴───────────────┴───────────────┴────────────┴───────────┴─────────────────────────────────────────────────────────────────────────────────────────────────────────────────────────────────────────────────────────────────────────────────┴───────────────────────────────────┴───────────────────────────────────────┴───────────────────────────────────────┴───────────────────────┴───────────────────────┴────────────────────────────┴────────────────────────────┤\n",
      "│ ? rows (>9999 rows, 20 shown)                                                                                                                                                                                                                                                                                                                                                                                                                                                                                                                                                 18 columns │\n",
      "└──────────────────────────────────────────────────────────────────────────────────────────────────────────────────────────────────────────────────────────────────────────────────────────────────────────────────────────────────────────────────────────────────────────────────────────────────────────────────────────────────────────────────────────────────────────────────────────────────────────────────────────────────────────────────────────────────────────────────────────────────────────────────────────────────────────────────────────────────────────────────────────┘\n",
      "\n"
     ]
    }
   ],
   "source": [
    "con.table(\"sise_prelevements\").show()"
   ]
  },
  {
   "cell_type": "code",
   "execution_count": 4,
   "metadata": {},
   "outputs": [
    {
     "name": "stdout",
     "output_type": "stream",
     "text": [
      "┌─────────┬───────────────┬─────────────────────┬─────────────┬─────────────────────────────┬─────────────────────────────┬─────────────────┬─────────────┬───────────┬──────────────────────────┬──────────────────────────┬──────────────────┬────────────┬────────────┬─────────────┬─────────────┬──────────────┐\n",
      "│ cddept  │ referenceprel │ cdparametresiseeaux │ cdparametre │       libmajparametre       │       libminparametre       │ libwebparametre │ qualitparam │ insituana │          rqana           │ cdunitereferencesiseeaux │ cdunitereference │ limitequal │  refqual   │ valtraduite │  casparam   │ referenceanl │\n",
      "│ varchar │    varchar    │       varchar       │    int64    │           varchar           │           varchar           │     varchar     │   varchar   │  varchar  │         varchar          │         varchar          │     varchar      │  varchar   │  varchar   │   double    │   varchar   │   varchar    │\n",
      "├─────────┼───────────────┼─────────────────────┼─────────────┼─────────────────────────────┼─────────────────────────────┼─────────────────┼─────────────┼───────────┼──────────────────────────┼──────────────────────────┼──────────────────┼────────────┼────────────┼─────────────┼─────────────┼──────────────┤\n",
      "│ 001     │ 00100138503   │ ALTMICR             │        1370 │ ALUMINIUM TOTAL µG/L        │ Aluminium total µg/l        │ NULL            │ N           │ L         │ <10                      │ µg/L                     │ 133              │ NULL       │ <=200 µg/L │         0.0 │ 7429-90-5   │ 00100147233  │\n",
      "│ 001     │ 00100138503   │ ASP                 │        6489 │ ASPECT (QUALITATIF)         │ Aspect (qualitatif)         │ NULL            │ O           │ L         │ Aspect normal            │ SANS OBJET               │ X                │ NULL       │ NULL       │         0.0 │ NULL        │ 00100147232  │\n",
      "│ 001     │ 00100138503   │ ASP                 │        6489 │ ASPECT (QUALITATIF)         │ Aspect (qualitatif)         │ NULL            │ O           │ L         │ Aspect normal            │ SANS OBJET               │ X                │ NULL       │ NULL       │         0.0 │ NULL        │ 00100147233  │\n",
      "│ 001     │ 00100138503   │ CL2LIB              │        1398 │ CHLORE LIBRE                │ Chlore libre                │ NULL            │ N           │ T         │ 0,30                     │ mg(Cl2)/L                │ 165              │ NULL       │ NULL       │         0.3 │ NULL        │ NULL         │\n",
      "│ 001     │ 00100138503   │ CL2TOT              │        1399 │ CHLORE TOTAL                │ Chlore total                │ NULL            │ N           │ T         │ 0,34                     │ mg(Cl2)/L                │ 165              │ NULL       │ NULL       │        0.34 │ NULL        │ NULL         │\n",
      "│ 001     │ 00100138503   │ CLO2                │        1754 │ BIOXYDE DE CHLORE MG/L CLO2 │ Bioxyde de chlore mg/L ClO2 │ NULL            │ N           │ T         │ N.M.                     │ mg/L                     │ 162              │ NULL       │ NULL       │        NULL │ 10049-04-4  │ NULL         │\n",
      "│ 001     │ 00100138503   │ COULQ               │        5900 │ COULEUR (QUALITATIF)        │ Couleur (qualitatif)        │ NULL            │ O           │ T         │ Aucun changement anormal │ SANS OBJET               │ X                │ NULL       │ NULL       │         0.0 │ NULL        │ NULL         │\n",
      "│ 001     │ 00100138503   │ FET                 │        1393 │ FER TOTAL                   │ Fer total                   │ NULL            │ N           │ L         │ 10                       │ µg/L                     │ 133              │ NULL       │ <=200 µg/L │        10.0 │ 7439-89-6   │ 00100147232  │\n",
      "│ 001     │ 00100138503   │ O3                  │        1746 │ OZONE                       │ Ozone                       │ NULL            │ N           │ T         │ N.M.                     │ mg/L                     │ 162              │ NULL       │ NULL       │        NULL │ 10028-15-6  │ NULL         │\n",
      "│ 001     │ 00100138503   │ ODQ                 │        5901 │ ODEUR (QUALITATIF)          │ Odeur (qualitatif)          │ NULL            │ O           │ L         │ Aucun changement anormal │ SANS OBJET               │ X                │ NULL       │ NULL       │         0.0 │ NULL        │ 00100147232  │\n",
      "│  ·      │      ·        │  ·                  │          ·  │      ·                      │      ·                      │  ·              │ ·           │ ·         │   ·                      │  ·                       │ ·                │  ·         │  ·         │          ·  │  ·          │      ·       │\n",
      "│  ·      │      ·        │  ·                  │          ·  │      ·                      │      ·                      │  ·              │ ·           │ ·         │   ·                      │  ·                       │ ·                │  ·         │  ·         │          ·  │  ·          │      ·       │\n",
      "│  ·      │      ·        │  ·                  │          ·  │      ·                      │      ·                      │  ·              │ ·           │ ·         │   ·                      │  ·                       │ ·                │  ·         │  ·         │          ·  │  ·          │      ·       │\n",
      "│ 001     │ 00100139134   │ MTMI                │        1215 │ MÉTAMITRONE                 │ Métamitrone                 │ NULL            │ N           │ L         │ <0,005                   │ µg/L                     │ 133              │ <=0,1 µg/L │ NULL       │         0.0 │ 41394-05-2  │ 00100147919  │\n",
      "│ 001     │ 00100139134   │ MTX                 │        1511 │ MÉTHOXYCHLORE               │ Méthoxychlore               │ NULL            │ N           │ L         │ <0,005                   │ µg/L                     │ 133              │ <=0,1 µg/L │ NULL       │         0.0 │ 72-43-5     │ 00100147919  │\n",
      "│ 001     │ 00100139134   │ MYCLOSS             │        1881 │ MYCLOBUTANIL                │ Myclobutanil                │ NULL            │ N           │ L         │ <0,005                   │ µg/L                     │ 133              │ <=0,1 µg/L │ NULL       │         0.0 │ 88671-89-0  │ 00100147919  │\n",
      "│ 001     │ 00100139134   │ NA                  │        1375 │ SODIUM                      │ Sodium                      │ NULL            │ N           │ L         │ 8,0                      │ mg/L                     │ 162              │ NULL       │ <=200 mg/L │         8.0 │ 7440-23-5   │ 00100147919  │\n",
      "│ 001     │ 00100139134   │ NAPR                │        1519 │ NAPROPAMIDE                 │ Napropamide                 │ NULL            │ N           │ L         │ <0,005                   │ µg/L                     │ 133              │ <=0,1 µg/L │ NULL       │         0.0 │ 15299-99-7  │ 00100147919  │\n",
      "│ 001     │ 00100139134   │ NFZ                 │        1669 │ NORFLURAZON                 │ Norflurazon                 │ NULL            │ N           │ L         │ <0,005                   │ µg/L                     │ 133              │ <=0,1 µg/L │ NULL       │         0.0 │ 27314-13-2  │ 00100147919  │\n",
      "│ 001     │ 00100139134   │ NH4                 │        1335 │ AMMONIUM (EN NH4)           │ Ammonium (en NH4)           │ NULL            │ N           │ L         │ <0,05                    │ mg/L                     │ 162              │ NULL       │ <=0,1 mg/L │         0.0 │ 14798-03-9  │ 00100147919  │\n",
      "│ 001     │ 00100139134   │ NICOSUL             │        1882 │ NICOSULFURON                │ Nicosulfuron                │ NULL            │ N           │ L         │ <0,005                   │ µg/L                     │ 133              │ <=0,1 µg/L │ NULL       │         0.0 │ 111991-09-4 │ 00100147919  │\n",
      "│ 001     │ 00100139134   │ NO2                 │        1339 │ NITRITES (EN NO2)           │ Nitrites (en NO2)           │ NULL            │ N           │ L         │ <0,02                    │ mg/L                     │ 162              │ <=0,5 mg/L │ NULL       │         0.0 │ 14797-65-0  │ 00100147919  │\n",
      "│ 001     │ 00100139134   │ NO3                 │        1340 │ NITRATES (EN NO3)           │ Nitrates (en NO3)           │ NULL            │ N           │ L         │ <0,5                     │ mg/L                     │ 162              │ <=50 mg/L  │ NULL       │         0.0 │ 14797-55-8  │ 00100147919  │\n",
      "├─────────┴───────────────┴─────────────────────┴─────────────┴─────────────────────────────┴─────────────────────────────┴─────────────────┴─────────────┴───────────┴──────────────────────────┴──────────────────────────┴──────────────────┴────────────┴────────────┴─────────────┴─────────────┴──────────────┤\n",
      "│ ? rows (>9999 rows, 20 shown)                                                                                                                                                                                                                                                                          17 columns │\n",
      "└───────────────────────────────────────────────────────────────────────────────────────────────────────────────────────────────────────────────────────────────────────────────────────────────────────────────────────────────────────────────────────────────────────────────────────────────────────────────────┘\n",
      "\n"
     ]
    }
   ],
   "source": [
    "con.table(\"sise_resultats\").show()"
   ]
  },
  {
   "cell_type": "code",
   "execution_count": 5,
   "metadata": {},
   "outputs": [
    {
     "name": "stdout",
     "output_type": "stream",
     "text": [
      "nombre_de_communes = 34880\n"
     ]
    }
   ],
   "source": [
    "# Chargeons la table sise_communes dans un pandas dataframe, et calculons le nombre de communes\n",
    "\n",
    "communes = con.table(\"sise_communes\").to_df()\n",
    "nombre_de_communes = communes.nunique()[\"inseecommune\"]\n",
    "print(f\"nombre_de_communes = {nombre_de_communes}\")\n"
   ]
  },
  {
   "cell_type": "code",
   "execution_count": 9,
   "metadata": {},
   "outputs": [
    {
     "name": "stdout",
     "output_type": "stream",
     "text": [
      "┌─────────────────────────────────────┬────────┐\n",
      "│           libmajparametre           │ count  │\n",
      "│               varchar               │ int64  │\n",
      "├─────────────────────────────────────┼────────┤\n",
      "│ PH                                  │ 338786 │\n",
      "│ CONDUCTIVITÉ À 25°C                 │ 265188 │\n",
      "│ TEMPÉRATURE DE L'EAU                │ 258858 │\n",
      "│ CHLORE LIBRE                        │ 257631 │\n",
      "│ ESCHERICHIA COLI /100ML - MF        │ 255609 │\n",
      "│ ENTÉROCOQUES /100ML-MS              │ 255593 │\n",
      "│ BACTÉRIES COLIFORMES /100ML-MS      │ 255539 │\n",
      "│ TURBIDITÉ NÉPHÉLOMÉTRIQUE NFU       │ 255307 │\n",
      "│ CHLORE TOTAL                        │ 254918 │\n",
      "│ BACT. AÉR. REVIVIFIABLES À 36°-44H  │ 254690 │\n",
      "│          ·                          │      · │\n",
      "│          ·                          │      · │\n",
      "│          ·                          │      · │\n",
      "│ BENZO(J)FLUORANTHÈNE                │      1 │\n",
      "│ GIARDIA SPP                         │      1 │\n",
      "│ CHLOROTHALONIL MÉTABOLITE R611965   │      1 │\n",
      "│ RÉSIDU SEC À 180°                   │      1 │\n",
      "│ BARYUM DISSOUS                      │      1 │\n",
      "│ BORE DISSOUS                        │      1 │\n",
      "│ ACIDE CHLORODIBROMACÉTIQUE          │      1 │\n",
      "│ CHLOROTHALONIL MÉTABOLITE SYN507900 │      1 │\n",
      "│ HYDROGÈNE SULFURÉ (QUALITATIF)      │      1 │\n",
      "│ MATIÈRES EN SUSPENSION              │      1 │\n",
      "├─────────────────────────────────────┴────────┤\n",
      "│ 1336 rows (20 shown)               2 columns │\n",
      "└──────────────────────────────────────────────┘\n",
      "\n"
     ]
    }
   ],
   "source": [
    "# Faisons une requête SQL en utilisant duckdb via la librarie python pour lister les substances qui ont été recherchées\n",
    "# et les trier par ordre décroissant de leur nombre d'occurrences\n",
    "\n",
    "con.sql(\"\"\"\n",
    "    SELECT libmajparametre, COUNT(*) as count\n",
    "    FROM sise_resultats\n",
    "    GROUP BY libmajparametre\n",
    "    ORDER BY count DESC\n",
    "\"\"\").show()\n"
   ]
  },
  {
   "cell_type": "code",
   "execution_count": 7,
   "metadata": {},
   "outputs": [
    {
     "data": {
      "text/html": [
       "<span style=\"None\">The &#x27;toml&#x27; package isn&#x27;t installed. To load settings from pyproject.toml or ~/.jupysql/config, install with: pip install toml</span>"
      ],
      "text/plain": [
       "The 'toml' package isn't installed. To load settings from pyproject.toml or ~/.jupysql/config, install with: pip install toml"
      ]
     },
     "metadata": {},
     "output_type": "display_data"
    },
    {
     "data": {
      "text/html": [
       "<span style=\"None\">Connecting to &#x27;duckdb:///../../database/data.duckdb&#x27;</span>"
      ],
      "text/plain": [
       "Connecting to 'duckdb:///../../database/data.duckdb'"
      ]
     },
     "metadata": {},
     "output_type": "display_data"
    },
    {
     "data": {
      "text/html": [
       "<span style=\"None\">Running query in &#x27;duckdb:///../../database/data.duckdb&#x27;</span>"
      ],
      "text/plain": [
       "Running query in 'duckdb:///../../database/data.duckdb'"
      ]
     },
     "metadata": {},
     "output_type": "display_data"
    },
    {
     "data": {
      "text/html": [
       "<table>\n",
       "    <thead>\n",
       "        <tr>\n",
       "            <th>libmajparametre</th>\n",
       "            <th>count</th>\n",
       "        </tr>\n",
       "    </thead>\n",
       "    <tbody>\n",
       "        <tr>\n",
       "            <td>PH </td>\n",
       "            <td>338786</td>\n",
       "        </tr>\n",
       "        <tr>\n",
       "            <td>CONDUCTIVITÉ À 25°C</td>\n",
       "            <td>265188</td>\n",
       "        </tr>\n",
       "        <tr>\n",
       "            <td>TEMPÉRATURE DE L'EAU</td>\n",
       "            <td>258858</td>\n",
       "        </tr>\n",
       "        <tr>\n",
       "            <td>CHLORE LIBRE</td>\n",
       "            <td>257631</td>\n",
       "        </tr>\n",
       "        <tr>\n",
       "            <td>ESCHERICHIA COLI /100ML - MF</td>\n",
       "            <td>255609</td>\n",
       "        </tr>\n",
       "        <tr>\n",
       "            <td>ENTÉROCOQUES /100ML-MS</td>\n",
       "            <td>255593</td>\n",
       "        </tr>\n",
       "        <tr>\n",
       "            <td>BACTÉRIES COLIFORMES /100ML-MS</td>\n",
       "            <td>255539</td>\n",
       "        </tr>\n",
       "        <tr>\n",
       "            <td>TURBIDITÉ NÉPHÉLOMÉTRIQUE NFU</td>\n",
       "            <td>255307</td>\n",
       "        </tr>\n",
       "        <tr>\n",
       "            <td>CHLORE TOTAL</td>\n",
       "            <td>254918</td>\n",
       "        </tr>\n",
       "        <tr>\n",
       "            <td>BACT. AÉR. REVIVIFIABLES À 36°-44H</td>\n",
       "            <td>254690</td>\n",
       "        </tr>\n",
       "    </tbody>\n",
       "</table>\n",
       "<span style=\"font-style:italic;text-align:center;\">Truncated to <a href=\"https://jupysql.ploomber.io/en/latest/api/configuration.html#displaylimit\">displaylimit</a> of 10.</span>"
      ],
      "text/plain": [
       "+------------------------------------+--------+\n",
       "|          libmajparametre           | count  |\n",
       "+------------------------------------+--------+\n",
       "|                PH                  | 338786 |\n",
       "|        CONDUCTIVITÉ À 25°C         | 265188 |\n",
       "|        TEMPÉRATURE DE L'EAU        | 258858 |\n",
       "|            CHLORE LIBRE            | 257631 |\n",
       "|    ESCHERICHIA COLI /100ML - MF    | 255609 |\n",
       "|       ENTÉROCOQUES /100ML-MS       | 255593 |\n",
       "|   BACTÉRIES COLIFORMES /100ML-MS   | 255539 |\n",
       "|   TURBIDITÉ NÉPHÉLOMÉTRIQUE NFU    | 255307 |\n",
       "|            CHLORE TOTAL            | 254918 |\n",
       "| BACT. AÉR. REVIVIFIABLES À 36°-44H | 254690 |\n",
       "+------------------------------------+--------+\n",
       "Truncated to displaylimit of 10."
      ]
     },
     "execution_count": 7,
     "metadata": {},
     "output_type": "execute_result"
    }
   ],
   "source": [
    "# Maintenant configurons l'extension SQL pour Jupyter...\n",
    "\n",
    "%load_ext sql\n",
    "%sql duckdb:///../../database/data.duckdb\n",
    "\n",
    "# ...et faisons la même requête SQL en utilisant l'extension SQL pour Jupyter\n",
    "\n",
    "%sql SELECT libmajparametre, COUNT(*) as count FROM sise_resultats GROUP BY libmajparametre ORDER BY count DESC;"
   ]
  },
  {
   "cell_type": "code",
   "execution_count": 8,
   "metadata": {},
   "outputs": [
    {
     "name": "stdout",
     "output_type": "stream",
     "text": [
      "┌─────────┬───────────┬───────────────────┬─────────────────┬───────────────┬───────────────────────────┬───────────────┬───────────────┬────────────┬───────────┬─────────────────────────────────────────────────────────────────────────────────────────────────────────┬────────────────────┬──────────┬────────────────────┬───────────────────────┬───────────────────────┬────────────────────────────┬────────────────────────────┐\n",
      "│ cddept  │ cdreseau  │ inseecommuneprinc │ nomcommuneprinc │ cdreseauamont │      nomreseauamont       │ pourcentdebit │ referenceprel │  dateprel  │ heureprel │                                             conclusionprel                                              │       ugelib       │ distrlib │       moalib       │ plvconformitebacterio │ plvconformitechimique │ plvconformitereferencebact │ plvconformitereferencechim │\n",
      "│ varchar │  varchar  │      varchar      │     varchar     │    varchar    │          varchar          │    varchar    │    varchar    │    date    │  varchar  │                                                 varchar                                                 │      varchar       │ varchar  │      varchar       │        varchar        │        varchar        │          varchar           │          varchar           │\n",
      "├─────────┼───────────┼───────────────────┼─────────────────┼───────────────┼───────────────────────────┼───────────────┼───────────────┼────────────┼───────────┼─────────────────────────────────────────────────────────────────────────────────────────────────────────┼────────────────────┼──────────┼────────────────────┼───────────────────────┼───────────────────────┼────────────────────────────┼────────────────────────────┤\n",
      "│ 031     │ 031000006 │ 31555             │ TOULOUSE        │ 031000004     │ USINE TOULOUSE PECH DAVID │ 55 %          │ 03100202758   │ 2024-01-15 │ 12h42     │ Eau d'alimentation conforme aux exigences de qualité en vigueur pour l'ensemble des paramètres mesurés. │ TOULOUSE METROPOLE │ SETOM    │ TOULOUSE METROPOLE │ C                     │ C                     │ C                          │ C                          │\n",
      "│ 031     │ 031000006 │ 31555             │ TOULOUSE        │ NULL          │ NULL                      │ NULL          │ 03100202773   │ 2024-01-19 │ 11h01     │ Eau d'alimentation conforme aux exigences de qualité en vigueur pour l'ensemble des paramètres mesurés. │ TOULOUSE METROPOLE │ SETOM    │ TOULOUSE METROPOLE │ C                     │ C                     │ C                          │ C                          │\n",
      "│ 031     │ 031000006 │ 31555             │ TOULOUSE        │ NULL          │ NULL                      │ NULL          │ 03100202774   │ 2024-01-05 │ 11h30     │ Eau d'alimentation conforme aux exigences de qualité en vigueur pour l'ensemble des paramètres mesurés. │ TOULOUSE METROPOLE │ SETOM    │ TOULOUSE METROPOLE │ C                     │ C                     │ C                          │ C                          │\n",
      "│ 031     │ 031000006 │ 31555             │ TOULOUSE        │ NULL          │ NULL                      │ NULL          │ 03100202775   │ 2024-01-24 │ 10h28     │ Eau d'alimentation conforme aux exigences de qualité en vigueur pour l'ensemble des paramètres mesurés. │ TOULOUSE METROPOLE │ SETOM    │ TOULOUSE METROPOLE │ C                     │ C                     │ C                          │ C                          │\n",
      "│ 031     │ 031000006 │ 31555             │ TOULOUSE        │ NULL          │ NULL                      │ NULL          │ 03100202776   │ 2024-01-03 │ 13h15     │ Eau d'alimentation conforme aux exigences de qualité en vigueur pour l'ensemble des paramètres mesurés. │ TOULOUSE METROPOLE │ SETOM    │ TOULOUSE METROPOLE │ C                     │ C                     │ C                          │ C                          │\n",
      "│ 031     │ 031000006 │ 31555             │ TOULOUSE        │ NULL          │ NULL                      │ NULL          │ 03100202777   │ 2024-01-08 │ 12h00     │ Eau d'alimentation conforme aux exigences de qualité en vigueur pour l'ensemble des paramètres mesurés. │ TOULOUSE METROPOLE │ SETOM    │ TOULOUSE METROPOLE │ C                     │ C                     │ C                          │ C                          │\n",
      "│ 031     │ 031000006 │ 31555             │ TOULOUSE        │ NULL          │ NULL                      │ NULL          │ 03100202778   │ 2024-01-04 │ 13h59     │ Eau d'alimentation conforme aux exigences de qualité en vigueur pour l'ensemble des paramètres mesurés. │ TOULOUSE METROPOLE │ SETOM    │ TOULOUSE METROPOLE │ C                     │ C                     │ C                          │ C                          │\n",
      "│ 031     │ 031000006 │ 31555             │ TOULOUSE        │ NULL          │ NULL                      │ NULL          │ 03100202779   │ 2024-01-12 │ 11h51     │ Eau d'alimentation conforme aux exigences de qualité en vigueur pour l'ensemble des paramètres mesurés. │ TOULOUSE METROPOLE │ SETOM    │ TOULOUSE METROPOLE │ C                     │ C                     │ C                          │ C                          │\n",
      "│ 031     │ 031000006 │ 31555             │ TOULOUSE        │ NULL          │ NULL                      │ NULL          │ 03100202780   │ 2024-01-12 │ 10h17     │ Eau d'alimentation conforme aux exigences de qualité en vigueur pour l'ensemble des paramètres mesurés. │ TOULOUSE METROPOLE │ SETOM    │ TOULOUSE METROPOLE │ C                     │ C                     │ C                          │ C                          │\n",
      "│ 031     │ 031000006 │ 31555             │ TOULOUSE        │ NULL          │ NULL                      │ NULL          │ 03100202781   │ 2024-01-11 │ 09h04     │ Eau d'alimentation conforme aux exigences de qualité en vigueur pour l'ensemble des paramètres mesurés. │ TOULOUSE METROPOLE │ SETOM    │ TOULOUSE METROPOLE │ C                     │ C                     │ C                          │ C                          │\n",
      "│  ·      │     ·     │   ·               │    ·            │  ·            │  ·                        │  ·            │      ·        │     ·      │   ·       │                                                    ·                                                    │         ·          │   ·      │         ·          │ ·                     │ ·                     │ ·                          │ ·                          │\n",
      "│  ·      │     ·     │   ·               │    ·            │  ·            │  ·                        │  ·            │      ·        │     ·      │   ·       │                                                    ·                                                    │         ·          │   ·      │         ·          │ ·                     │ ·                     │ ·                          │ ·                          │\n",
      "│  ·      │     ·     │   ·               │    ·            │  ·            │  ·                        │  ·            │      ·        │     ·      │   ·       │                                                    ·                                                    │         ·          │   ·      │         ·          │ ·                     │ ·                     │ ·                          │ ·                          │\n",
      "│ 031     │ 031003025 │ 31555             │ TOULOUSE        │ 031000004     │ USINE TOULOUSE PECH DAVID │ 5 %           │ 03100205902   │ 2024-11-04 │ 09h29     │ Eau d'alimentation conforme aux exigences de qualité en vigueur pour l'ensemble des paramètres mesurés. │ TOULOUSE METROPOLE │ SETOM    │ TOULOUSE METROPOLE │ C                     │ C                     │ C                          │ C                          │\n",
      "│ 031     │ 031003025 │ 31555             │ TOULOUSE        │ 031000004     │ USINE TOULOUSE PECH DAVID │ 5 %           │ 03100206038   │ 2024-11-14 │ 15h18     │ Eau d'alimentation conforme aux exigences de qualité en vigueur pour l'ensemble des paramètres mesurés. │ TOULOUSE METROPOLE │ SETOM    │ TOULOUSE METROPOLE │ C                     │ C                     │ C                          │ C                          │\n",
      "│ 031     │ 031003025 │ 31555             │ TOULOUSE        │ 031000004     │ USINE TOULOUSE PECH DAVID │ 5 %           │ 03100206039   │ 2024-11-21 │ 13h41     │ Eau d'alimentation conforme aux exigences de qualité en vigueur pour l'ensemble des paramètres mesurés. │ TOULOUSE METROPOLE │ SETOM    │ TOULOUSE METROPOLE │ C                     │ C                     │ C                          │ C                          │\n",
      "│ 031     │ 031003025 │ 31555             │ TOULOUSE        │ 031000004     │ USINE TOULOUSE PECH DAVID │ 5 %           │ 03100206040   │ 2024-11-26 │ 10h18     │ Eau d'alimentation conforme aux exigences de qualité en vigueur pour l'ensemble des paramètres mesurés. │ TOULOUSE METROPOLE │ SETOM    │ TOULOUSE METROPOLE │ C                     │ C                     │ C                          │ C                          │\n",
      "│ 031     │ 031003025 │ 31555             │ TOULOUSE        │ 031000004     │ USINE TOULOUSE PECH DAVID │ 5 %           │ 03100206041   │ 2024-11-28 │ 13h08     │ Eau d'alimentation conforme aux exigences de qualité en vigueur pour l'ensemble des paramètres mesurés. │ TOULOUSE METROPOLE │ SETOM    │ TOULOUSE METROPOLE │ C                     │ C                     │ C                          │ C                          │\n",
      "│ 031     │ 031003025 │ 31555             │ TOULOUSE        │ 031000004     │ USINE TOULOUSE PECH DAVID │ 5 %           │ 03100206042   │ 2024-11-29 │ 11h49     │ Eau d'alimentation conforme aux exigences de qualité en vigueur pour l'ensemble des paramètres mesurés. │ TOULOUSE METROPOLE │ SETOM    │ TOULOUSE METROPOLE │ C                     │ C                     │ C                          │ C                          │\n",
      "│ 031     │ 031003025 │ 31555             │ TOULOUSE        │ 031000004     │ USINE TOULOUSE PECH DAVID │ 5 %           │ 03100206067   │ 2024-12-19 │ 14h26     │ Eau d'alimentation conforme aux exigences de qualité en vigueur pour l'ensemble des paramètres mesurés. │ TOULOUSE METROPOLE │ SETOM    │ TOULOUSE METROPOLE │ C                     │ C                     │ C                          │ C                          │\n",
      "│ 031     │ 031003025 │ 31555             │ TOULOUSE        │ 031000004     │ USINE TOULOUSE PECH DAVID │ 5 %           │ 03100206284   │ 2024-12-05 │ 13h33     │ Eau d'alimentation conforme aux exigences de qualité en vigueur pour l'ensemble des paramètres mesurés. │ TOULOUSE METROPOLE │ SETOM    │ TOULOUSE METROPOLE │ C                     │ C                     │ C                          │ C                          │\n",
      "│ 031     │ 031003025 │ 31555             │ TOULOUSE        │ 031000004     │ USINE TOULOUSE PECH DAVID │ 5 %           │ 03100206285   │ 2024-12-13 │ 10h56     │ Eau d'alimentation conforme aux exigences de qualité en vigueur pour l'ensemble des paramètres mesurés. │ TOULOUSE METROPOLE │ SETOM    │ TOULOUSE METROPOLE │ C                     │ C                     │ C                          │ C                          │\n",
      "│ 031     │ 031003025 │ 31555             │ TOULOUSE        │ 031000004     │ USINE TOULOUSE PECH DAVID │ 5 %           │ 03100206286   │ 2024-12-24 │ 10h08     │ Eau d'alimentation conforme aux exigences de qualité en vigueur pour l'ensemble des paramètres mesurés. │ TOULOUSE METROPOLE │ SETOM    │ TOULOUSE METROPOLE │ C                     │ C                     │ C                          │ C                          │\n",
      "├─────────┴───────────┴───────────────────┴─────────────────┴───────────────┴───────────────────────────┴───────────────┴───────────────┴────────────┴───────────┴─────────────────────────────────────────────────────────────────────────────────────────────────────────┴────────────────────┴──────────┴────────────────────┴───────────────────────┴───────────────────────┴────────────────────────────┴────────────────────────────┤\n",
      "│ 1212 rows (20 shown)                                                                                                                                                                                                                                                                                                                                                                                                         18 columns │\n",
      "└─────────────────────────────────────────────────────────────────────────────────────────────────────────────────────────────────────────────────────────────────────────────────────────────────────────────────────────────────────────────────────────────────────────────────────────────────────────────────────────────────────────────────────────────────────────────────────────────────────────────────────────────────────────┘\n",
      "\n"
     ]
    }
   ],
   "source": [
    "# Enfin, terminons par lister les prélèvements effectués dans une commune donnée\n",
    "\n",
    "nomcommune = \"TOULOUSE\"\n",
    "\n",
    "con.sql(f\"\"\"\n",
    "    SELECT *\n",
    "    FROM sise_prelevements\n",
    "    WHERE nomcommuneprinc = '{nomcommune}'\n",
    "\"\"\").show()"
   ]
  },
  {
   "cell_type": "code",
   "execution_count": null,
   "metadata": {},
   "outputs": [],
   "source": []
  }
 ],
 "metadata": {
  "kernelspec": {
   "display_name": ".venv",
   "language": "python",
   "name": "python3"
  },
  "language_info": {
   "codemirror_mode": {
    "name": "ipython",
    "version": 3
   },
   "file_extension": ".py",
   "mimetype": "text/x-python",
   "name": "python",
   "nbconvert_exporter": "python",
   "pygments_lexer": "ipython3",
   "version": "3.12.5"
  }
 },
 "nbformat": 4,
 "nbformat_minor": 2
}
