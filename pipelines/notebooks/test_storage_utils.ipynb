{
 "cells": [
  {
   "cell_type": "code",
   "execution_count": 1,
   "id": "30627a53-3b54-4e00-98a8-9283034fa572",
   "metadata": {},
   "outputs": [],
   "source": [
    "# import sys\n",
    "# sys.path.append(\"../..\")\n",
    "from pipelines.utils.storage_client import ObjectStorageClient"
   ]
  },
  {
   "cell_type": "code",
   "execution_count": 2,
   "id": "38862ce2-4723-41e3-ab29-bcf76e1248e7",
   "metadata": {},
   "outputs": [],
   "source": [
    "# nécéssaire pour load le .env\n",
    "import pipelines.config.config"
   ]
  },
  {
   "cell_type": "code",
   "execution_count": 3,
   "id": "d133d716-172f-4273-ad61-f4bc88cf9413",
   "metadata": {},
   "outputs": [],
   "source": [
    "import pandas as pd\n",
    "\n",
    "file_name = \"test.csv\"\n",
    "data = {\n",
    "    \"Name\": [\"Alice\", \"Bob\", \"Charlie\"],\n",
    "    \"Age\": [25, 30, 35],\n",
    "    \"City\": [\"New York\", \"Los Angeles\", \"Chicago\"],\n",
    "}\n",
    "df = pd.DataFrame(data)\n",
    "df.to_csv(file_name, index=False)"
   ]
  },
  {
   "cell_type": "code",
   "execution_count": 3,
   "id": "f92361d8-8b48-40a4-a6c6-e91e9b5f0fae",
   "metadata": {},
   "outputs": [],
   "source": [
    "storage_client = ObjectStorageClient()"
   ]
  },
  {
   "cell_type": "code",
   "execution_count": null,
   "id": "6796b3fc-9332-429c-8217-6661dd7dd08c",
   "metadata": {},
   "outputs": [],
   "source": [
    "storage_client.upload_object(\"test.csv\", \"test/test.csv\")"
   ]
  },
  {
   "cell_type": "code",
   "execution_count": null,
   "id": "eb314161-952b-4a68-875e-de52ce042578",
   "metadata": {},
   "outputs": [],
   "source": [
    "storage_client.download_object(\"test/test.csv\", \"download_test.csv\")\n",
    "pd.read_csv(\"download_test.csv\")"
   ]
  },
  {
   "cell_type": "code",
   "execution_count": null,
   "id": "3b3a9883-90cd-4eb1-8555-ccb98b5d8851",
   "metadata": {},
   "outputs": [],
   "source": [
    "storage_client.read_object_as_dataframe(\"test/test.csv\")"
   ]
  },
  {
   "cell_type": "code",
   "execution_count": null,
   "id": "fa49c099-7010-4d13-ae62-f75d6f539c58",
   "metadata": {},
   "outputs": [],
   "source": [
    "storage_client.upload_dataframe(df, \"test2.csv\")"
   ]
  },
  {
   "cell_type": "code",
   "execution_count": null,
   "id": "d36700b6-33e7-45b0-af94-b6458e94ba1c",
   "metadata": {},
   "outputs": [],
   "source": [
    "storage_client.read_object_as_dataframe(\"test2.csv\")"
   ]
  },
  {
   "cell_type": "code",
   "execution_count": null,
   "id": "526d731a-1040-4f8b-abd3-d8fbb408d98a",
   "metadata": {},
   "outputs": [],
   "source": [
    "storage_client.list_objects()"
   ]
  },
  {
   "cell_type": "code",
   "execution_count": null,
   "id": "263a01c0-25f9-45a7-bb60-c0dd5e3ae2fb",
   "metadata": {},
   "outputs": [],
   "source": [
    "storage_client.delete_object(\"test2.csv\")\n",
    "storage_client.delete_object(\"test/test.csv\")"
   ]
  },
  {
   "cell_type": "code",
   "execution_count": null,
   "id": "73f94449-52d7-453c-9f21-b5e5df68cd37",
   "metadata": {},
   "outputs": [],
   "source": [
    "storage_client.list_objects()"
   ]
  },
  {
   "cell_type": "code",
   "execution_count": null,
   "id": "361e9472-232f-40e8-8389-c088808bcfad",
   "metadata": {},
   "outputs": [],
   "source": []
  },
  {
   "cell_type": "code",
   "execution_count": null,
   "id": "7df83608-b121-43fd-8d6b-5667df410fd4",
   "metadata": {},
   "outputs": [],
   "source": []
  }
 ],
 "metadata": {
  "kernelspec": {
   "display_name": ".venv",
   "language": "python",
   "name": "python3"
  },
  "language_info": {
   "codemirror_mode": {
    "name": "ipython",
    "version": 3
   },
   "file_extension": ".py",
   "mimetype": "text/x-python",
   "name": "python",
   "nbconvert_exporter": "python",
   "pygments_lexer": "ipython3",
   "version": "3.12.5"
  }
 },
 "nbformat": 4,
 "nbformat_minor": 5
}
