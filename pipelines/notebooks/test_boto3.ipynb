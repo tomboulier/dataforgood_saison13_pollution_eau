{
 "cells": [
  {
   "cell_type": "code",
   "execution_count": 5,
   "id": "225a561c-715a-4ccb-81b1-810eaae25196",
   "metadata": {},
   "outputs": [],
   "source": [
    "import os\n",
    "import boto3\n",
    "from botocore.client import Config\n",
    "\n",
    "\"\"\"Client class to interact with Scaleway Object Storage.\"\"\"\n",
    "\n",
    "\n",
    "class ObjectStorageClient:\n",
    "\n",
    "    region_name = \"fr-par\"\n",
    "    endpoint_url = \"https://s3.fr-par.scw.cloud\"\n",
    "    bucket_name = \"pollution-eau-s3\"\n",
    "    def __init__(self):\n",
    "        # Need to use V2 signature for upload and V4 for download\n",
    "        self.client_v2 = self.build_client(\"s3\")\n",
    "        self.client_v4 = self.build_client(\"s3v4\")\n",
    "\n",
    "    @staticmethod\n",
    "    def build_client(signature_version: str = \"s3v4\"):\n",
    "        return boto3.session.Session().client(\n",
    "            service_name='s3',\n",
    "            config=Config(signature_version=signature_version),\n",
    "            region_name=ObjectStorageClient.region_name,\n",
    "            use_ssl=True,\n",
    "            endpoint_url=ObjectStorageClient.endpoint_url,\n",
    "            aws_access_key_id=os.getenv('SCW_ACCESS_KEY'),\n",
    "            aws_secret_access_key=os.getenv('SCW_SECRET_KEY'),\n",
    "        )\n",
    "\n",
    "    def list_buckets(self):\n",
    "        response = self.client_v4.list_buckets()\n",
    "        return response['Buckets']\n",
    "\n",
    "    def list_objects(self):\n",
    "        response = self.client_v4.list_objects(Bucket=self.bucket_name)\n",
    "        return response['Contents']\n",
    "\n",
    "    def download_object(self, key, local_path):\n",
    "        self.client_v4.download_file(self.bucket_name, key, local_path)\n",
    "\n",
    "    def upload_object(self, local_path, object_name=None):\n",
    "        if object_name is None:\n",
    "            object_name = os.path.basename(local_path)\n",
    "        self.client_v2.upload_file(local_path, self.bucket_name, object_name)\n",
    "\n",
    "    def delete_object(self, key):\n",
    "        self.client_v4.delete_object(Bucket=self.bucket_name, Key=key)\n"
   ]
  },
  {
   "cell_type": "code",
   "execution_count": 1,
   "id": "a78ff147-d232-4536-9c3d-d79ff706fc64",
   "metadata": {},
   "outputs": [
    {
     "ename": "S3UploadFailedError",
     "evalue": "Failed to upload test.csv to pollution-eau-s3/test.csv: An error occurred (RequestTimeTooSkewed) when calling the PutObject operation: The difference between the request time and the current time is too large.",
     "output_type": "error",
     "traceback": [
      "\u001b[1;31m---------------------------------------------------------------------------\u001b[0m",
      "\u001b[1;31mClientError\u001b[0m                               Traceback (most recent call last)",
      "File \u001b[1;32m~\\Documents\\DataForGood\\13_rendre_visible_pollution_eau_potable\\13_pollution_eau\\.venv\\Lib\\site-packages\\boto3\\s3\\transfer.py:371\u001b[0m, in \u001b[0;36mS3Transfer.upload_file\u001b[1;34m(self, filename, bucket, key, callback, extra_args)\u001b[0m\n\u001b[0;32m    370\u001b[0m \u001b[38;5;28;01mtry\u001b[39;00m:\n\u001b[1;32m--> 371\u001b[0m     \u001b[43mfuture\u001b[49m\u001b[38;5;241;43m.\u001b[39;49m\u001b[43mresult\u001b[49m\u001b[43m(\u001b[49m\u001b[43m)\u001b[49m\n\u001b[0;32m    372\u001b[0m \u001b[38;5;66;03m# If a client error was raised, add the backwards compatibility layer\u001b[39;00m\n\u001b[0;32m    373\u001b[0m \u001b[38;5;66;03m# that raises a S3UploadFailedError. These specific errors were only\u001b[39;00m\n\u001b[0;32m    374\u001b[0m \u001b[38;5;66;03m# ever thrown for upload_parts but now can be thrown for any related\u001b[39;00m\n\u001b[0;32m    375\u001b[0m \u001b[38;5;66;03m# client error.\u001b[39;00m\n",
      "File \u001b[1;32m~\\Documents\\DataForGood\\13_rendre_visible_pollution_eau_potable\\13_pollution_eau\\.venv\\Lib\\site-packages\\s3transfer\\futures.py:103\u001b[0m, in \u001b[0;36mTransferFuture.result\u001b[1;34m(self)\u001b[0m\n\u001b[0;32m     99\u001b[0m \u001b[38;5;28;01mtry\u001b[39;00m:\n\u001b[0;32m    100\u001b[0m     \u001b[38;5;66;03m# Usually the result() method blocks until the transfer is done,\u001b[39;00m\n\u001b[0;32m    101\u001b[0m     \u001b[38;5;66;03m# however if a KeyboardInterrupt is raised we want want to exit\u001b[39;00m\n\u001b[0;32m    102\u001b[0m     \u001b[38;5;66;03m# out of this and propagate the exception.\u001b[39;00m\n\u001b[1;32m--> 103\u001b[0m     \u001b[38;5;28;01mreturn\u001b[39;00m \u001b[38;5;28;43mself\u001b[39;49m\u001b[38;5;241;43m.\u001b[39;49m\u001b[43m_coordinator\u001b[49m\u001b[38;5;241;43m.\u001b[39;49m\u001b[43mresult\u001b[49m\u001b[43m(\u001b[49m\u001b[43m)\u001b[49m\n\u001b[0;32m    104\u001b[0m \u001b[38;5;28;01mexcept\u001b[39;00m \u001b[38;5;167;01mKeyboardInterrupt\u001b[39;00m \u001b[38;5;28;01mas\u001b[39;00m e:\n",
      "File \u001b[1;32m~\\Documents\\DataForGood\\13_rendre_visible_pollution_eau_potable\\13_pollution_eau\\.venv\\Lib\\site-packages\\s3transfer\\futures.py:264\u001b[0m, in \u001b[0;36mTransferCoordinator.result\u001b[1;34m(self)\u001b[0m\n\u001b[0;32m    263\u001b[0m \u001b[38;5;28;01mif\u001b[39;00m \u001b[38;5;28mself\u001b[39m\u001b[38;5;241m.\u001b[39m_exception:\n\u001b[1;32m--> 264\u001b[0m     \u001b[38;5;28;01mraise\u001b[39;00m \u001b[38;5;28mself\u001b[39m\u001b[38;5;241m.\u001b[39m_exception\n\u001b[0;32m    265\u001b[0m \u001b[38;5;28;01mreturn\u001b[39;00m \u001b[38;5;28mself\u001b[39m\u001b[38;5;241m.\u001b[39m_result\n",
      "File \u001b[1;32m~\\Documents\\DataForGood\\13_rendre_visible_pollution_eau_potable\\13_pollution_eau\\.venv\\Lib\\site-packages\\s3transfer\\tasks.py:135\u001b[0m, in \u001b[0;36mTask.__call__\u001b[1;34m(self)\u001b[0m\n\u001b[0;32m    134\u001b[0m     \u001b[38;5;28;01mif\u001b[39;00m \u001b[38;5;129;01mnot\u001b[39;00m \u001b[38;5;28mself\u001b[39m\u001b[38;5;241m.\u001b[39m_transfer_coordinator\u001b[38;5;241m.\u001b[39mdone():\n\u001b[1;32m--> 135\u001b[0m         \u001b[38;5;28;01mreturn\u001b[39;00m \u001b[38;5;28;43mself\u001b[39;49m\u001b[38;5;241;43m.\u001b[39;49m\u001b[43m_execute_main\u001b[49m\u001b[43m(\u001b[49m\u001b[43mkwargs\u001b[49m\u001b[43m)\u001b[49m\n\u001b[0;32m    136\u001b[0m \u001b[38;5;28;01mexcept\u001b[39;00m \u001b[38;5;167;01mException\u001b[39;00m \u001b[38;5;28;01mas\u001b[39;00m e:\n",
      "File \u001b[1;32m~\\Documents\\DataForGood\\13_rendre_visible_pollution_eau_potable\\13_pollution_eau\\.venv\\Lib\\site-packages\\s3transfer\\tasks.py:158\u001b[0m, in \u001b[0;36mTask._execute_main\u001b[1;34m(self, kwargs)\u001b[0m\n\u001b[0;32m    156\u001b[0m logger\u001b[38;5;241m.\u001b[39mdebug(\u001b[38;5;124mf\u001b[39m\u001b[38;5;124m\"\u001b[39m\u001b[38;5;124mExecuting task \u001b[39m\u001b[38;5;132;01m{\u001b[39;00m\u001b[38;5;28mself\u001b[39m\u001b[38;5;132;01m}\u001b[39;00m\u001b[38;5;124m with kwargs \u001b[39m\u001b[38;5;132;01m{\u001b[39;00mkwargs_to_display\u001b[38;5;132;01m}\u001b[39;00m\u001b[38;5;124m\"\u001b[39m)\n\u001b[1;32m--> 158\u001b[0m return_value \u001b[38;5;241m=\u001b[39m \u001b[38;5;28;43mself\u001b[39;49m\u001b[38;5;241;43m.\u001b[39;49m\u001b[43m_main\u001b[49m\u001b[43m(\u001b[49m\u001b[38;5;241;43m*\u001b[39;49m\u001b[38;5;241;43m*\u001b[39;49m\u001b[43mkwargs\u001b[49m\u001b[43m)\u001b[49m\n\u001b[0;32m    159\u001b[0m \u001b[38;5;66;03m# If the task is the final task, then set the TransferFuture's\u001b[39;00m\n\u001b[0;32m    160\u001b[0m \u001b[38;5;66;03m# value to the return value from main().\u001b[39;00m\n",
      "File \u001b[1;32m~\\Documents\\DataForGood\\13_rendre_visible_pollution_eau_potable\\13_pollution_eau\\.venv\\Lib\\site-packages\\s3transfer\\upload.py:762\u001b[0m, in \u001b[0;36mPutObjectTask._main\u001b[1;34m(self, client, fileobj, bucket, key, extra_args)\u001b[0m\n\u001b[0;32m    761\u001b[0m \u001b[38;5;28;01mwith\u001b[39;00m fileobj \u001b[38;5;28;01mas\u001b[39;00m body:\n\u001b[1;32m--> 762\u001b[0m     \u001b[43mclient\u001b[49m\u001b[38;5;241;43m.\u001b[39;49m\u001b[43mput_object\u001b[49m\u001b[43m(\u001b[49m\u001b[43mBucket\u001b[49m\u001b[38;5;241;43m=\u001b[39;49m\u001b[43mbucket\u001b[49m\u001b[43m,\u001b[49m\u001b[43m \u001b[49m\u001b[43mKey\u001b[49m\u001b[38;5;241;43m=\u001b[39;49m\u001b[43mkey\u001b[49m\u001b[43m,\u001b[49m\u001b[43m \u001b[49m\u001b[43mBody\u001b[49m\u001b[38;5;241;43m=\u001b[39;49m\u001b[43mbody\u001b[49m\u001b[43m,\u001b[49m\u001b[43m \u001b[49m\u001b[38;5;241;43m*\u001b[39;49m\u001b[38;5;241;43m*\u001b[39;49m\u001b[43mextra_args\u001b[49m\u001b[43m)\u001b[49m\n",
      "File \u001b[1;32m~\\Documents\\DataForGood\\13_rendre_visible_pollution_eau_potable\\13_pollution_eau\\.venv\\Lib\\site-packages\\botocore\\client.py:565\u001b[0m, in \u001b[0;36mClientCreator._create_api_method.<locals>._api_call\u001b[1;34m(self, *args, **kwargs)\u001b[0m\n\u001b[0;32m    564\u001b[0m \u001b[38;5;66;03m# The \"self\" in this scope is referring to the BaseClient.\u001b[39;00m\n\u001b[1;32m--> 565\u001b[0m \u001b[38;5;28;01mreturn\u001b[39;00m \u001b[38;5;28;43mself\u001b[39;49m\u001b[38;5;241;43m.\u001b[39;49m\u001b[43m_make_api_call\u001b[49m\u001b[43m(\u001b[49m\u001b[43moperation_name\u001b[49m\u001b[43m,\u001b[49m\u001b[43m \u001b[49m\u001b[43mkwargs\u001b[49m\u001b[43m)\u001b[49m\n",
      "File \u001b[1;32m~\\Documents\\DataForGood\\13_rendre_visible_pollution_eau_potable\\13_pollution_eau\\.venv\\Lib\\site-packages\\botocore\\client.py:1017\u001b[0m, in \u001b[0;36mBaseClient._make_api_call\u001b[1;34m(self, operation_name, api_params)\u001b[0m\n\u001b[0;32m   1016\u001b[0m     error_class \u001b[38;5;241m=\u001b[39m \u001b[38;5;28mself\u001b[39m\u001b[38;5;241m.\u001b[39mexceptions\u001b[38;5;241m.\u001b[39mfrom_code(error_code)\n\u001b[1;32m-> 1017\u001b[0m     \u001b[38;5;28;01mraise\u001b[39;00m error_class(parsed_response, operation_name)\n\u001b[0;32m   1018\u001b[0m \u001b[38;5;28;01melse\u001b[39;00m:\n",
      "\u001b[1;31mClientError\u001b[0m: An error occurred (RequestTimeTooSkewed) when calling the PutObject operation: The difference between the request time and the current time is too large.",
      "\nDuring handling of the above exception, another exception occurred:\n",
      "\u001b[1;31mS3UploadFailedError\u001b[0m                       Traceback (most recent call last)",
      "Cell \u001b[1;32mIn[1], line 37\u001b[0m\n\u001b[0;32m     32\u001b[0m df \u001b[38;5;241m=\u001b[39m pd\u001b[38;5;241m.\u001b[39mDataFrame(data)\n\u001b[0;32m     33\u001b[0m df\u001b[38;5;241m.\u001b[39mto_csv(file_name, index\u001b[38;5;241m=\u001b[39m\u001b[38;5;28;01mFalse\u001b[39;00m)\n\u001b[1;32m---> 37\u001b[0m response \u001b[38;5;241m=\u001b[39m \u001b[43ms3_client\u001b[49m\u001b[38;5;241;43m.\u001b[39;49m\u001b[43mupload_file\u001b[49m\u001b[43m(\u001b[49m\u001b[43mfile_name\u001b[49m\u001b[43m,\u001b[49m\u001b[43m \u001b[49m\u001b[43mbucket_name\u001b[49m\u001b[43m,\u001b[49m\u001b[43m \u001b[49m\u001b[43mfile_key\u001b[49m\u001b[43m)\u001b[49m\n\u001b[0;32m     39\u001b[0m response \u001b[38;5;241m=\u001b[39m s3_client\u001b[38;5;241m.\u001b[39mget_object(Bucket\u001b[38;5;241m=\u001b[39mbucket_name, Key\u001b[38;5;241m=\u001b[39mfile_key)\n\u001b[0;32m     40\u001b[0m csv_data \u001b[38;5;241m=\u001b[39m response[\u001b[38;5;124m\"\u001b[39m\u001b[38;5;124mBody\u001b[39m\u001b[38;5;124m\"\u001b[39m]\u001b[38;5;241m.\u001b[39mread()\u001b[38;5;241m.\u001b[39mdecode(\u001b[38;5;124m\"\u001b[39m\u001b[38;5;124mutf-8\u001b[39m\u001b[38;5;124m\"\u001b[39m)\n",
      "File \u001b[1;32m~\\Documents\\DataForGood\\13_rendre_visible_pollution_eau_potable\\13_pollution_eau\\.venv\\Lib\\site-packages\\boto3\\s3\\inject.py:145\u001b[0m, in \u001b[0;36mupload_file\u001b[1;34m(self, Filename, Bucket, Key, ExtraArgs, Callback, Config)\u001b[0m\n\u001b[0;32m    110\u001b[0m \u001b[38;5;250m\u001b[39m\u001b[38;5;124;03m\"\"\"Upload a file to an S3 object.\u001b[39;00m\n\u001b[0;32m    111\u001b[0m \n\u001b[0;32m    112\u001b[0m \u001b[38;5;124;03mUsage::\u001b[39;00m\n\u001b[1;32m   (...)\u001b[0m\n\u001b[0;32m    142\u001b[0m \u001b[38;5;124;03m    transfer.\u001b[39;00m\n\u001b[0;32m    143\u001b[0m \u001b[38;5;124;03m\"\"\"\u001b[39;00m\n\u001b[0;32m    144\u001b[0m \u001b[38;5;28;01mwith\u001b[39;00m S3Transfer(\u001b[38;5;28mself\u001b[39m, Config) \u001b[38;5;28;01mas\u001b[39;00m transfer:\n\u001b[1;32m--> 145\u001b[0m     \u001b[38;5;28;01mreturn\u001b[39;00m \u001b[43mtransfer\u001b[49m\u001b[38;5;241;43m.\u001b[39;49m\u001b[43mupload_file\u001b[49m\u001b[43m(\u001b[49m\n\u001b[0;32m    146\u001b[0m \u001b[43m        \u001b[49m\u001b[43mfilename\u001b[49m\u001b[38;5;241;43m=\u001b[39;49m\u001b[43mFilename\u001b[49m\u001b[43m,\u001b[49m\n\u001b[0;32m    147\u001b[0m \u001b[43m        \u001b[49m\u001b[43mbucket\u001b[49m\u001b[38;5;241;43m=\u001b[39;49m\u001b[43mBucket\u001b[49m\u001b[43m,\u001b[49m\n\u001b[0;32m    148\u001b[0m \u001b[43m        \u001b[49m\u001b[43mkey\u001b[49m\u001b[38;5;241;43m=\u001b[39;49m\u001b[43mKey\u001b[49m\u001b[43m,\u001b[49m\n\u001b[0;32m    149\u001b[0m \u001b[43m        \u001b[49m\u001b[43mextra_args\u001b[49m\u001b[38;5;241;43m=\u001b[39;49m\u001b[43mExtraArgs\u001b[49m\u001b[43m,\u001b[49m\n\u001b[0;32m    150\u001b[0m \u001b[43m        \u001b[49m\u001b[43mcallback\u001b[49m\u001b[38;5;241;43m=\u001b[39;49m\u001b[43mCallback\u001b[49m\u001b[43m,\u001b[49m\n\u001b[0;32m    151\u001b[0m \u001b[43m    \u001b[49m\u001b[43m)\u001b[49m\n",
      "File \u001b[1;32m~\\Documents\\DataForGood\\13_rendre_visible_pollution_eau_potable\\13_pollution_eau\\.venv\\Lib\\site-packages\\boto3\\s3\\transfer.py:377\u001b[0m, in \u001b[0;36mS3Transfer.upload_file\u001b[1;34m(self, filename, bucket, key, callback, extra_args)\u001b[0m\n\u001b[0;32m    372\u001b[0m \u001b[38;5;66;03m# If a client error was raised, add the backwards compatibility layer\u001b[39;00m\n\u001b[0;32m    373\u001b[0m \u001b[38;5;66;03m# that raises a S3UploadFailedError. These specific errors were only\u001b[39;00m\n\u001b[0;32m    374\u001b[0m \u001b[38;5;66;03m# ever thrown for upload_parts but now can be thrown for any related\u001b[39;00m\n\u001b[0;32m    375\u001b[0m \u001b[38;5;66;03m# client error.\u001b[39;00m\n\u001b[0;32m    376\u001b[0m \u001b[38;5;28;01mexcept\u001b[39;00m ClientError \u001b[38;5;28;01mas\u001b[39;00m e:\n\u001b[1;32m--> 377\u001b[0m     \u001b[38;5;28;01mraise\u001b[39;00m S3UploadFailedError(\n\u001b[0;32m    378\u001b[0m         \u001b[38;5;124m\"\u001b[39m\u001b[38;5;124mFailed to upload \u001b[39m\u001b[38;5;132;01m{}\u001b[39;00m\u001b[38;5;124m to \u001b[39m\u001b[38;5;132;01m{}\u001b[39;00m\u001b[38;5;124m: \u001b[39m\u001b[38;5;132;01m{}\u001b[39;00m\u001b[38;5;124m\"\u001b[39m\u001b[38;5;241m.\u001b[39mformat(\n\u001b[0;32m    379\u001b[0m             filename, \u001b[38;5;124m'\u001b[39m\u001b[38;5;124m/\u001b[39m\u001b[38;5;124m'\u001b[39m\u001b[38;5;241m.\u001b[39mjoin([bucket, key]), e\n\u001b[0;32m    380\u001b[0m         )\n\u001b[0;32m    381\u001b[0m     )\n",
      "\u001b[1;31mS3UploadFailedError\u001b[0m: Failed to upload test.csv to pollution-eau-s3/test.csv: An error occurred (RequestTimeTooSkewed) when calling the PutObject operation: The difference between the request time and the current time is too large."
     ]
    }
   ],
   "source": [
    "import pandas as pd\n",
    "import boto3\n",
    "import io\n",
    "from dotenv import load_dotenv\n",
    "import os\n",
    "\n",
    "load_dotenv()\n",
    "\n",
    "# AWS S3 Configuration\n",
    "s3_endpoint = \"https://s3.fr-par.scw.cloud\"  # Replace with your S3-compatible endpoint\n",
    "access_key = os.getenv(\"SCW_ACCESS_KEY\")  # Replace with your access key\n",
    "secret_key = os.getenv(\"SCW_SECRET_KEY\")  # Replace with your secret key\n",
    "bucket_name = \"pollution-eau-s3\"  # Replace with your bucket name\n",
    "file_key = \"test.csv\"  # Key (file name) in the S3 bucket\n",
    "file_name = \"test.csv\"\n",
    "\n",
    "# Connect to S3\n",
    "s3_client = boto3.client(\n",
    "    \"s3\",\n",
    "    endpoint_url=s3_endpoint,\n",
    "    aws_access_key_id=access_key,\n",
    "    aws_secret_access_key=secret_key,\n",
    "    region_name=\"fr-par\",  \n",
    ")\n",
    "\n",
    "# Example DataFrame\n",
    "data = {\n",
    "    \"Name\": [\"Alice\", \"Bob\", \"Charlie\"],\n",
    "    \"Age\": [25, 30, 35],\n",
    "    \"City\": [\"New York\", \"Los Angeles\", \"Chicago\"]\n",
    "}\n",
    "df = pd.DataFrame(data)\n",
    "df.to_csv(file_name, index=False)\n",
    "\n",
    "\n",
    "\n",
    "response = s3_client.upload_file(file_name, bucket_name, file_key)\n",
    "\n",
    "response = s3_client.get_object(Bucket=bucket_name, Key=file_key)\n",
    "csv_data = response[\"Body\"].read().decode(\"utf-8\")\n",
    "\n",
    "# Load the CSV data into a DataFrame\n",
    "df_read = pd.read_csv(io.StringIO(csv_data))\n",
    "print(df_read)\n",
    "\n",
    "## Attention avec boto3 1.36 le upload file ne fonctionne pas, ce code utilise \"boto3==1.34.11\""
   ]
  },
  {
   "cell_type": "code",
   "execution_count": 6,
   "id": "f92361d8-8b48-40a4-a6c6-e91e9b5f0fae",
   "metadata": {},
   "outputs": [],
   "source": [
    "storage_client = ObjectStorageClient()"
   ]
  },
  {
   "cell_type": "code",
   "execution_count": null,
   "id": "d36700b6-33e7-45b0-af94-b6458e94ba1c",
   "metadata": {},
   "outputs": [],
   "source": [
    "storage_client.upload_object(test"
   ]
  },
  {
   "cell_type": "code",
   "execution_count": null,
   "id": "c3232fc5-231c-46f4-a850-1384f16eeffe",
   "metadata": {},
   "outputs": [],
   "source": [
    "response = s3_client.list_objects_v2(Bucket=bucket_name)\n",
    "response"
   ]
  },
  {
   "cell_type": "code",
   "execution_count": null,
   "id": "9d4d0e3e-9a8a-490b-b9c4-9754bbce7f45",
   "metadata": {},
   "outputs": [],
   "source": [
    "# Write the DataFrame to S3 as a CSV\n",
    "try:\n",
    "    # Save DataFrame to an in-memory buffer\n",
    "    csv_buffer = io.StringIO()\n",
    "    df.to_csv(csv_buffer, index=False)\n",
    "\n",
    "    # Upload the buffer to S3\n",
    "    s3_client.put_object(Bucket=bucket_name, Key=file_key, Body=csv_buffer.getvalue())\n",
    "    print(f\"DataFrame written to S3 bucket '{bucket_name}' as '{file_key}'.\")\n",
    "except Exception as e:\n",
    "    print(f\"Error writing DataFrame to S3: {e}\")"
   ]
  },
  {
   "cell_type": "code",
   "execution_count": null,
   "id": "e99f92cb-7d32-4f6b-bd8e-8d8b1cd210e0",
   "metadata": {},
   "outputs": [],
   "source": [
    "# Read the CSV file from S3 into a DataFrame\n",
    "try:\n",
    "    # Download the CSV file from S3 into an in-memory buffer\n",
    "    response = s3_client.get_object(Bucket=bucket_name, Key=file_key)\n",
    "    csv_data = response[\"Body\"].read().decode(\"utf-8\")\n",
    "\n",
    "    # Load the CSV data into a DataFrame\n",
    "    df_read = pd.read_csv(io.StringIO(csv_data))\n",
    "    print(\"DataFrame read from S3:\")\n",
    "    print(df_read)\n",
    "except Exception as e:\n",
    "    print(f\"Error reading DataFrame from S3: {e}\")"
   ]
  },
  {
   "cell_type": "code",
   "execution_count": null,
   "id": "1d6a82d2-313d-47de-b631-e699ba8994f6",
   "metadata": {},
   "outputs": [],
   "source": []
  },
  {
   "cell_type": "code",
   "execution_count": null,
   "id": "627fb04f-ced3-4f0e-8fdd-a8c0f75f68a6",
   "metadata": {},
   "outputs": [],
   "source": [
    "AWS_S3_BUCKET = \"pollution-eau-s3\"\n",
    "AWS_ACCESS_KEY_ID = os.getenv(\"SCW_ACCESS_KEY\")\n",
    "AWS_SECRET_ACCESS_KEY = os.getenv(\"SCW_SECRET_KEY\")\n",
    "AWS_SESSION_TOKEN = os.getenv(\"AWS_SESSION_TOKEN\")\n",
    "\n",
    "df.to_csv(\n",
    "    f\"s3://{AWS_S3_BUCKET}/{file_key}\",\n",
    "    index=False,\n",
    "    storage_options={\n",
    "        \"key\": AWS_ACCESS_KEY_ID,\n",
    "        \"secret\": AWS_SECRET_ACCESS_KEY,\n",
    "    },\n",
    ")"
   ]
  },
  {
   "cell_type": "code",
   "execution_count": null,
   "id": "73f94449-52d7-453c-9f21-b5e5df68cd37",
   "metadata": {},
   "outputs": [],
   "source": []
  },
  {
   "cell_type": "code",
   "execution_count": null,
   "id": "361e9472-232f-40e8-8389-c088808bcfad",
   "metadata": {},
   "outputs": [],
   "source": []
  }
 ],
 "metadata": {
  "kernelspec": {
   "display_name": "Python 3 (ipykernel)",
   "language": "python",
   "name": "python3"
  },
  "language_info": {
   "codemirror_mode": {
    "name": "ipython",
    "version": 3
   },
   "file_extension": ".py",
   "mimetype": "text/x-python",
   "name": "python",
   "nbconvert_exporter": "python",
   "pygments_lexer": "ipython3",
   "version": "3.12.7"
  }
 },
 "nbformat": 4,
 "nbformat_minor": 5
}
