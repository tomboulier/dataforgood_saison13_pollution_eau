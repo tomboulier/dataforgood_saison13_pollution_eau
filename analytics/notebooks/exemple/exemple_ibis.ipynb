{
 "cells": [
  {
   "cell_type": "markdown",
   "id": "5b184c8b-fa23-416d-9e3a-88a84e1d5c43",
   "metadata": {},
   "source": [
    "# Exemple de notebook : Utilisation du package IBIS pour pré-filtrer, faire des jointures et aggréger avant de charger les données avec pandas"
   ]
  },
  {
   "cell_type": "markdown",
   "id": "c7337a33-3fe0-4011-996d-8af3758a1b75",
   "metadata": {},
   "source": [
    "Avec la collecte de plusieurs années d’historique des données SISE, les volumes de données disponibles dans les tables edc_communes, edc_prelevements et edc_resultats vont significativement augmenter. Cette situationsituation pose des défis en termes de performances pour le chargement des données.\n",
    "\n",
    "En particulier, une approche consistant à charger une table entière dans un DataFrame Pandas avec une commande comme :\n",
    "\n",
    "```python\n",
    "df = con.table(\"edc_resultats\").df()\n",
    "```\n",
    "\n",
    "peut devenir lente et gourmande en mémoire.\n",
    "\n",
    "\n",
    "Ibis permet de se connecter à la base de données et de la requêter via python.\n",
    "\n",
    "On peut alors définir une suite d'opérations qui ne seront exécutées que lorsqu'on en fera la demande (via `.execute()` ou `.to_pandas()`). \n",
    "Une fois la requête exécuté, les données sont récupérées dans des DataFrames (ou Series) pandas.\n",
    "\n",
    "```python\n",
    "# Aucune donnée n'est chargée\n",
    "table_filtree = table.filter(...)['colonnes']\n",
    "\n",
    "# On execute la requête et on récupère les données dans un DataFrame pandas\n",
    "df = table_filtree.execute()\n",
    "```\n",
    "    \n",
    "Ce notebook a pour objectif de montrer :\n",
    "\n",
    "- Comment utiliser [Ibis](https://ibis-project.org/tutorials/getting_started) pour interroger et filtrer efficacement les données avant de les charger dans Pandas.\n",
    "- Des exemples concrets adaptés à vos besoins d'analyse, comme le filtrage par dates, jointures entre tables ou la sélection de paramètres spécifiques."
   ]
  },
  {
   "cell_type": "code",
   "execution_count": 5,
   "id": "df08b9fd-3abf-42ed-952d-304a0f30ddf9",
   "metadata": {},
   "outputs": [],
   "source": [
    "import pandas as pd\n",
    "\n",
    "pd.set_option(\"display.max_columns\", None)  # show all cols\n",
    "pd.set_option(\"display.max_colwidth\", None)  # show full width of showing cols\n",
    "pd.set_option(\n",
    "    \"display.expand_frame_repr\", False\n",
    ")  # print cols side by side as it's supposed to be"
   ]
  },
  {
   "cell_type": "code",
   "execution_count": 7,
   "id": "e40ebcf3-e956-4dc7-a6fb-38b237e956bb",
   "metadata": {},
   "outputs": [],
   "source": [
    "# Connexion à la base de données via ibis\n",
    "import ibis\n",
    "from pipelines.tasks._common import DUCKDB_FILE\n",
    "\n",
    "ibis_con = ibis.connect(DUCKDB_FILE, read_only=True)"
   ]
  },
  {
   "cell_type": "markdown",
   "id": "7b6955bc-5021-409a-93a8-21de0088fe50",
   "metadata": {},
   "source": [
    "Pour commencer, listons les tables disponibles dans la base de données :"
   ]
  },
  {
   "cell_type": "code",
   "execution_count": null,
   "id": "93e3dd8d-763c-4718-bfc1-4915b5cc926f",
   "metadata": {},
   "outputs": [],
   "source": [
    "ibis_con.list_tables()"
   ]
  },
  {
   "cell_type": "markdown",
   "id": "a5e278cc-416b-4fb4-adff-013a92e457f2",
   "metadata": {},
   "source": [
    "L'inspection des colonnes d'une table peut se faire directement avec Ibis."
   ]
  },
  {
   "cell_type": "code",
   "execution_count": null,
   "id": "ef02f89e-fd30-42d6-9e2f-7675ef6691b1",
   "metadata": {
    "scrolled": true
   },
   "outputs": [],
   "source": [
    "# On peut définir des objets DatabaseTable pour chacunes des tables\n",
    "# Pour le moment on ne récupère pas les enregistrements des tables.\n",
    "communes_table = ibis_con.table(\"edc_communes\")\n",
    "prelevements_table = ibis_con.table(\"edc_prelevements\")\n",
    "resultats_table = ibis_con.table(\"edc_resultats\")\n",
    "\n",
    "display(communes_table)\n",
    "display(prelevements_table)\n",
    "display(resultats_table)"
   ]
  },
  {
   "cell_type": "markdown",
   "id": "39180d0a-2fa9-4fcd-a30f-de6404163784",
   "metadata": {},
   "source": [
    "## Filtres"
   ]
  },
  {
   "cell_type": "markdown",
   "id": "32c9137a-a7ef-4cd2-9943-3b9f41864f34",
   "metadata": {},
   "source": [
    "1. Filtrer sur les prélévements de 2024"
   ]
  },
  {
   "cell_type": "code",
   "execution_count": null,
   "id": "1955ef3b-ee83-448d-8343-c5eb99e2fb1d",
   "metadata": {
    "scrolled": true
   },
   "outputs": [],
   "source": [
    "# On prédéfinit une opération de filtre à effectuer sur la table\n",
    "prelevements_2024 = prelevements_table.filter(\n",
    "    prelevements_table.dateprel >= \"2024-01-01\"\n",
    ")\n",
    "\n",
    "# On peut mettre une limite avant d'éxecuter la requête.\n",
    "df_prelevements_2024 = prelevements_2024.limit(50).execute()\n",
    "print(type(df_prelevements_2024))\n",
    "df_prelevements_2024.head(2)"
   ]
  },
  {
   "cell_type": "markdown",
   "id": "d9426662-2ed3-40fa-8363-47bb38e164d1",
   "metadata": {},
   "source": [
    "2. Filtrer sur les prélévements non conformes en 2024\n",
    "\n"
   ]
  },
  {
   "cell_type": "code",
   "execution_count": null,
   "id": "545b15bb-8847-43e6-906c-ca37aed848cb",
   "metadata": {},
   "outputs": [],
   "source": [
    "non_conforme_query = (\n",
    "    (prelevements_table.plvconformitebacterio == \"N\")\n",
    "    | (prelevements_table.plvconformitechimique == \"N\")\n",
    "    | (prelevements_table.plvconformitereferencebact == \"N\")\n",
    "    | (prelevements_table.plvconformitereferencechim == \"N\")\n",
    ")\n",
    "\n",
    "non_conformes_2024 = prelevements_2024.filter(non_conforme_query)\n",
    "f\"En 2024, il y a eu {non_conformes_2024.count().execute():,.0f} prélévements non conformes au sens d'au moins une des variables suivantes : plvconformitebacterio, plvconformitechimique, plvconformitereferencebact, plvconformitereferencechim ([voir documentation](https://www.data.gouv.fr/fr/datasets/r/36afc708-42dc-4a89-b039-7fde6bcc83d8))\".replace(\n",
    "    \",\", \" \"\n",
    ")"
   ]
  },
  {
   "cell_type": "code",
   "execution_count": null,
   "id": "db8f98bf-5a57-4a3c-9fdf-062b315ac0b3",
   "metadata": {},
   "outputs": [],
   "source": [
    "non_conformes_paris = non_conformes_2024.filter(\n",
    "    (prelevements_table.nomcommuneprinc == \"PARIS\")\n",
    ")\n",
    "f\"{non_conformes_paris.count().execute():,.0f} sur la ville de PARIS\""
   ]
  },
  {
   "cell_type": "markdown",
   "id": "82457140-483f-4d0b-ba43-8b807f1398a5",
   "metadata": {},
   "source": [
    "## Selectionner des colonnes avant d'exécuter la requête"
   ]
  },
  {
   "cell_type": "code",
   "execution_count": null,
   "id": "c40db5d6-d1d4-45c6-a57f-35d18bf86b62",
   "metadata": {},
   "outputs": [],
   "source": [
    "selected_columns = non_conformes_2024[\n",
    "    [\"referenceprel\", \"dateprel\", \"nomcommuneprinc\", \"plvconformitebacterio\"]\n",
    "]\n",
    "selected_columns.execute()"
   ]
  },
  {
   "cell_type": "markdown",
   "id": "0dc774c7-5cba-4d35-aeb0-a2e11a3a8611",
   "metadata": {},
   "source": [
    "## Jointure\n",
    "Joindre edc_prelevements et edc_resultats sur referenceprel pour obtenir les résultats associés à chaque prélèvement :"
   ]
  },
  {
   "cell_type": "code",
   "execution_count": null,
   "id": "52228cc9-d75f-40ad-b1ed-f04c137ae63b",
   "metadata": {},
   "outputs": [],
   "source": [
    "joined_data = non_conformes_2024.join(\n",
    "    resultats_table, non_conformes_2024.referenceprel == resultats_table.referenceprel\n",
    ")[\n",
    "    [\n",
    "        \"referenceprel\",\n",
    "        \"dateprel\",\n",
    "        \"nomcommuneprinc\",\n",
    "        \"libmajparametre\",\n",
    "        \"insituana\",\n",
    "        \"rqana\",\n",
    "        \"cdunitereferencesiseeaux\",\n",
    "    ]\n",
    "]\n",
    "\n",
    "joined_data.execute()"
   ]
  },
  {
   "cell_type": "markdown",
   "id": "c41a8282-d3f6-4d80-b1aa-1b2a94f7f756",
   "metadata": {},
   "source": [
    "## Groupby et aggregats\n",
    "Nombre total de prélèvements non conforme par commune en 2024"
   ]
  },
  {
   "cell_type": "code",
   "execution_count": null,
   "id": "854b6591-b2a7-42dd-bb23-2d16f445e7f4",
   "metadata": {},
   "outputs": [],
   "source": [
    "agg_data = non_conformes_2024.group_by(\"nomcommuneprinc\").aggregate(\n",
    "    nb_prelevements_non_conformes=non_conformes_2024.referenceprel.count()\n",
    ")\n",
    "agg_data.execute().sort_values(\"nb_prelevements_non_conformes\", ascending=False)"
   ]
  }
 ],
 "metadata": {
  "kernelspec": {
   "display_name": ".venv",
   "language": "python",
   "name": "python3"
  },
  "language_info": {
   "codemirror_mode": {
    "name": "ipython",
    "version": 3
   },
   "file_extension": ".py",
   "mimetype": "text/x-python",
   "name": "python",
   "nbconvert_exporter": "python",
   "pygments_lexer": "ipython3",
   "version": "3.12.7"
  }
 },
 "nbformat": 4,
 "nbformat_minor": 5
}
